{
  "nbformat": 4,
  "nbformat_minor": 0,
  "metadata": {
    "colab": {
      "provenance": []
    },
    "kernelspec": {
      "name": "python3",
      "display_name": "Python 3"
    },
    "language_info": {
      "name": "python"
    }
  },
  "cells": [
    {
      "cell_type": "code",
      "execution_count": null,
      "metadata": {
        "id": "Qw1DcNtkFxef"
      },
      "outputs": [],
      "source": [
        "import pandas as pd\n",
        "import numpy as np\n",
        "imdb_df = pd.read_csv('/content/drive/MyDrive/pandas/imdb_data.csv')\n",
        "imdb_df"
      ]
    },
    {
      "cell_type": "code",
      "source": [
        "imdb_df.shape"
      ],
      "metadata": {
        "id": "OL506-u3-2sD"
      },
      "execution_count": null,
      "outputs": []
    },
    {
      "cell_type": "code",
      "source": [
        "df=imdb_df.copy()"
      ],
      "metadata": {
        "id": "7lUUUbKY-2_w"
      },
      "execution_count": null,
      "outputs": []
    },
    {
      "cell_type": "code",
      "source": [
        "df.info()"
      ],
      "metadata": {
        "id": "7s99kfOC_QFd"
      },
      "execution_count": null,
      "outputs": []
    },
    {
      "cell_type": "code",
      "source": [
        "df.describe()"
      ],
      "metadata": {
        "id": "9LY4-EV2_dMA"
      },
      "execution_count": null,
      "outputs": []
    },
    {
      "cell_type": "code",
      "source": [
        "df.iloc[1:20,1:2]"
      ],
      "metadata": {
        "id": "U-Qvoebl_gtV"
      },
      "execution_count": null,
      "outputs": []
    },
    {
      "cell_type": "code",
      "source": [
        "df.loc[50:55,['cast','budget','runtime']]"
      ],
      "metadata": {
        "id": "Aj2UdSLn_g6b"
      },
      "execution_count": null,
      "outputs": []
    },
    {
      "cell_type": "code",
      "source": [
        "df[0:10]"
      ],
      "metadata": {
        "id": "EBCBlPMdAFLK"
      },
      "execution_count": null,
      "outputs": []
    },
    {
      "cell_type": "code",
      "source": [
        "df[['original_language','release_date','cast']]"
      ],
      "metadata": {
        "id": "jrvUymrM_56J"
      },
      "execution_count": null,
      "outputs": []
    },
    {
      "cell_type": "code",
      "source": [
        "df.columns"
      ],
      "metadata": {
        "id": "CwkUvruO_6F5"
      },
      "execution_count": null,
      "outputs": []
    },
    {
      "cell_type": "code",
      "source": [
        "df['original_language']=='en'"
      ],
      "metadata": {
        "colab": {
          "base_uri": "https://localhost:8080/"
        },
        "id": "O3F6qtwRDW_S",
        "outputId": "dc6a324b-a20c-4ddc-e9b1-ba9dabac812a"
      },
      "execution_count": null,
      "outputs": [
        {
          "output_type": "execute_result",
          "data": {
            "text/plain": [
              "0        True\n",
              "1        True\n",
              "2        True\n",
              "3       False\n",
              "4       False\n",
              "        ...  \n",
              "2995     True\n",
              "2996    False\n",
              "2997     True\n",
              "2998     True\n",
              "2999     True\n",
              "Name: original_language, Length: 3000, dtype: bool"
            ]
          },
          "metadata": {},
          "execution_count": 11
        }
      ]
    },
    {
      "cell_type": "code",
      "source": [
        "english_movies=df[df['original_language']=='en']\n",
        "english_movies.head()\n",
        "english_movies.shape"
      ],
      "metadata": {
        "id": "iPpzA4g8DXLR"
      },
      "execution_count": null,
      "outputs": []
    },
    {
      "cell_type": "code",
      "source": [
        "long_movies = df[df['runtime'] > 120]\n",
        "long_movies[['title','cast','runtime']]"
      ],
      "metadata": {
        "id": "kuWZN52mDXV9"
      },
      "execution_count": null,
      "outputs": []
    },
    {
      "cell_type": "code",
      "source": [
        "long_english_movies = df[(df['original_language']=='en') & (df['runtime'] > 120)]\n",
        "long_english_movies.head()"
      ],
      "metadata": {
        "id": "1HGq3KlODhdY"
      },
      "execution_count": null,
      "outputs": []
    },
    {
      "cell_type": "code",
      "source": [
        "long_english_movies.shape"
      ],
      "metadata": {
        "colab": {
          "base_uri": "https://localhost:8080/"
        },
        "id": "tSOoscGcDhmj",
        "outputId": "2df3b67a-5ff6-4289-dd0b-0d88ffc86b78"
      },
      "execution_count": null,
      "outputs": [
        {
          "output_type": "execute_result",
          "data": {
            "text/plain": [
              "(506, 23)"
            ]
          },
          "metadata": {},
          "execution_count": 15
        }
      ]
    },
    {
      "cell_type": "code",
      "source": [
        "#1: Creating DataFrame Create a DataFrame named df with the following data:\n",
        "import pandas as pd\n",
        "data = {'Name': ['John', 'Anna', 'Peter', 'Linda', 'Michael'],\n",
        "        'Age': [28, 35, 29, 42, 45],\n",
        "        'City': ['New York', 'Paris', 'Berlin', 'London', 'Tokyo'],\n",
        "        'Salary': [50000, 60000, 55000, 70000, 65000]}\n",
        "df = pd.DataFrame(data)"
      ],
      "metadata": {
        "id": "AcvB5BWcG1-X"
      },
      "execution_count": 24,
      "outputs": []
    },
    {
      "cell_type": "code",
      "source": [
        "#2: Accessing DataFrame Given the DataFrame df from Question 1, access and print the first two rows.\n",
        "df.head(2)"
      ],
      "metadata": {
        "id": "79cROq0iG1tn"
      },
      "execution_count": null,
      "outputs": []
    },
    {
      "cell_type": "code",
      "source": [
        "#3: Shape of DataFrame Given the DataFrame df from Question 1, print the shape of the DataFrame\n",
        "df.shape"
      ],
      "metadata": {
        "id": "jZVhoHWEG1hp"
      },
      "execution_count": null,
      "outputs": []
    },
    {
      "cell_type": "code",
      "source": [
        "# 4: Data Types Given the DataFrame df from Question 1, print the data types of each column.\n",
        "df.dtypes"
      ],
      "metadata": {
        "id": "po6zugQvG1Xp"
      },
      "execution_count": null,
      "outputs": []
    },
    {
      "cell_type": "code",
      "source": [
        "#5: Summary Statistics Given the DataFrame df from Question 1, print the summary statistics (mean, min, max, etc.) for numeric columns\n",
        "df.describe()"
      ],
      "metadata": {
        "id": "cQcDsB46G1Hi"
      },
      "execution_count": null,
      "outputs": []
    },
    {
      "cell_type": "code",
      "source": [
        "#6: Adding a New Column Given the DataFrame df from Question 1, add a new column named 'Gender' with values ['Male', 'Female', 'Male', 'Female'].\n",
        "df['gender']=['Male', 'Female', 'Male', 'Female']\n",
        "df"
      ],
      "metadata": {
        "id": "dENC7p25IAyf"
      },
      "execution_count": null,
      "outputs": []
    },
    {
      "cell_type": "code",
      "source": [
        "#7: Filtering Data Given the DataFrame df from Question 1, filter and print the rows where Age is greater than 30.\n",
        "print(df[df['Age']>30])"
      ],
      "metadata": {
        "id": "FnDibbCGIA17"
      },
      "execution_count": null,
      "outputs": []
    },
    {
      "cell_type": "code",
      "source": [
        "#8: Sorting Data Given the DataFrame df from Question 1, sort the DataFrame by Age in descending order and print the result.\n",
        "sorted_df=df.sort_values(by='Age',ascending=False)\n",
        "sorted_df"
      ],
      "metadata": {
        "id": "WP3cAAAVIBAq"
      },
      "execution_count": null,
      "outputs": []
    },
    {
      "cell_type": "code",
      "source": [
        "#9: Missing Values Create a DataFrame named df_missing with the following data:\n",
        "data_missing = {'Name': ['John', 'Anna', None, 'Linda', 'Michael'],\n",
        "                'Age': [28, 35, None, 42, 45],\n",
        "                'City': ['New York', 'Paris', 'Berlin', 'London', 'Tokyo'],\n",
        "                'Salary': [50000, 60000, 55000, None, 65000]}\n",
        "df_missing = pd.DataFrame(data_missing)\n",
        "df_missing"
      ],
      "metadata": {
        "id": "9PtF5S6EIM_7",
        "colab": {
          "base_uri": "https://localhost:8080/",
          "height": 206
        },
        "outputId": "cccf810e-0dc9-4d44-f648-e1078a9bb337"
      },
      "execution_count": null,
      "outputs": [
        {
          "output_type": "execute_result",
          "data": {
            "text/plain": [
              "      Name   Age      City   Salary\n",
              "0     John  28.0  New York  50000.0\n",
              "1     Anna  35.0     Paris  60000.0\n",
              "2     None   NaN    Berlin  55000.0\n",
              "3    Linda  42.0    London      NaN\n",
              "4  Michael  45.0     Tokyo  65000.0"
            ],
            "text/html": [
              "\n",
              "  <div id=\"df-150a9208-f9ba-410a-bfe5-be2795f6c659\" class=\"colab-df-container\">\n",
              "    <div>\n",
              "<style scoped>\n",
              "    .dataframe tbody tr th:only-of-type {\n",
              "        vertical-align: middle;\n",
              "    }\n",
              "\n",
              "    .dataframe tbody tr th {\n",
              "        vertical-align: top;\n",
              "    }\n",
              "\n",
              "    .dataframe thead th {\n",
              "        text-align: right;\n",
              "    }\n",
              "</style>\n",
              "<table border=\"1\" class=\"dataframe\">\n",
              "  <thead>\n",
              "    <tr style=\"text-align: right;\">\n",
              "      <th></th>\n",
              "      <th>Name</th>\n",
              "      <th>Age</th>\n",
              "      <th>City</th>\n",
              "      <th>Salary</th>\n",
              "    </tr>\n",
              "  </thead>\n",
              "  <tbody>\n",
              "    <tr>\n",
              "      <th>0</th>\n",
              "      <td>John</td>\n",
              "      <td>28.0</td>\n",
              "      <td>New York</td>\n",
              "      <td>50000.0</td>\n",
              "    </tr>\n",
              "    <tr>\n",
              "      <th>1</th>\n",
              "      <td>Anna</td>\n",
              "      <td>35.0</td>\n",
              "      <td>Paris</td>\n",
              "      <td>60000.0</td>\n",
              "    </tr>\n",
              "    <tr>\n",
              "      <th>2</th>\n",
              "      <td>None</td>\n",
              "      <td>NaN</td>\n",
              "      <td>Berlin</td>\n",
              "      <td>55000.0</td>\n",
              "    </tr>\n",
              "    <tr>\n",
              "      <th>3</th>\n",
              "      <td>Linda</td>\n",
              "      <td>42.0</td>\n",
              "      <td>London</td>\n",
              "      <td>NaN</td>\n",
              "    </tr>\n",
              "    <tr>\n",
              "      <th>4</th>\n",
              "      <td>Michael</td>\n",
              "      <td>45.0</td>\n",
              "      <td>Tokyo</td>\n",
              "      <td>65000.0</td>\n",
              "    </tr>\n",
              "  </tbody>\n",
              "</table>\n",
              "</div>\n",
              "    <div class=\"colab-df-buttons\">\n",
              "\n",
              "  <div class=\"colab-df-container\">\n",
              "    <button class=\"colab-df-convert\" onclick=\"convertToInteractive('df-150a9208-f9ba-410a-bfe5-be2795f6c659')\"\n",
              "            title=\"Convert this dataframe to an interactive table.\"\n",
              "            style=\"display:none;\">\n",
              "\n",
              "  <svg xmlns=\"http://www.w3.org/2000/svg\" height=\"24px\" viewBox=\"0 -960 960 960\">\n",
              "    <path d=\"M120-120v-720h720v720H120Zm60-500h600v-160H180v160Zm220 220h160v-160H400v160Zm0 220h160v-160H400v160ZM180-400h160v-160H180v160Zm440 0h160v-160H620v160ZM180-180h160v-160H180v160Zm440 0h160v-160H620v160Z\"/>\n",
              "  </svg>\n",
              "    </button>\n",
              "\n",
              "  <style>\n",
              "    .colab-df-container {\n",
              "      display:flex;\n",
              "      gap: 12px;\n",
              "    }\n",
              "\n",
              "    .colab-df-convert {\n",
              "      background-color: #E8F0FE;\n",
              "      border: none;\n",
              "      border-radius: 50%;\n",
              "      cursor: pointer;\n",
              "      display: none;\n",
              "      fill: #1967D2;\n",
              "      height: 32px;\n",
              "      padding: 0 0 0 0;\n",
              "      width: 32px;\n",
              "    }\n",
              "\n",
              "    .colab-df-convert:hover {\n",
              "      background-color: #E2EBFA;\n",
              "      box-shadow: 0px 1px 2px rgba(60, 64, 67, 0.3), 0px 1px 3px 1px rgba(60, 64, 67, 0.15);\n",
              "      fill: #174EA6;\n",
              "    }\n",
              "\n",
              "    .colab-df-buttons div {\n",
              "      margin-bottom: 4px;\n",
              "    }\n",
              "\n",
              "    [theme=dark] .colab-df-convert {\n",
              "      background-color: #3B4455;\n",
              "      fill: #D2E3FC;\n",
              "    }\n",
              "\n",
              "    [theme=dark] .colab-df-convert:hover {\n",
              "      background-color: #434B5C;\n",
              "      box-shadow: 0px 1px 3px 1px rgba(0, 0, 0, 0.15);\n",
              "      filter: drop-shadow(0px 1px 2px rgba(0, 0, 0, 0.3));\n",
              "      fill: #FFFFFF;\n",
              "    }\n",
              "  </style>\n",
              "\n",
              "    <script>\n",
              "      const buttonEl =\n",
              "        document.querySelector('#df-150a9208-f9ba-410a-bfe5-be2795f6c659 button.colab-df-convert');\n",
              "      buttonEl.style.display =\n",
              "        google.colab.kernel.accessAllowed ? 'block' : 'none';\n",
              "\n",
              "      async function convertToInteractive(key) {\n",
              "        const element = document.querySelector('#df-150a9208-f9ba-410a-bfe5-be2795f6c659');\n",
              "        const dataTable =\n",
              "          await google.colab.kernel.invokeFunction('convertToInteractive',\n",
              "                                                    [key], {});\n",
              "        if (!dataTable) return;\n",
              "\n",
              "        const docLinkHtml = 'Like what you see? Visit the ' +\n",
              "          '<a target=\"_blank\" href=https://colab.research.google.com/notebooks/data_table.ipynb>data table notebook</a>'\n",
              "          + ' to learn more about interactive tables.';\n",
              "        element.innerHTML = '';\n",
              "        dataTable['output_type'] = 'display_data';\n",
              "        await google.colab.output.renderOutput(dataTable, element);\n",
              "        const docLink = document.createElement('div');\n",
              "        docLink.innerHTML = docLinkHtml;\n",
              "        element.appendChild(docLink);\n",
              "      }\n",
              "    </script>\n",
              "  </div>\n",
              "\n",
              "\n",
              "<div id=\"df-1abdf570-1e4d-4334-86fc-f03c2f156ad2\">\n",
              "  <button class=\"colab-df-quickchart\" onclick=\"quickchart('df-1abdf570-1e4d-4334-86fc-f03c2f156ad2')\"\n",
              "            title=\"Suggest charts\"\n",
              "            style=\"display:none;\">\n",
              "\n",
              "<svg xmlns=\"http://www.w3.org/2000/svg\" height=\"24px\"viewBox=\"0 0 24 24\"\n",
              "     width=\"24px\">\n",
              "    <g>\n",
              "        <path d=\"M19 3H5c-1.1 0-2 .9-2 2v14c0 1.1.9 2 2 2h14c1.1 0 2-.9 2-2V5c0-1.1-.9-2-2-2zM9 17H7v-7h2v7zm4 0h-2V7h2v10zm4 0h-2v-4h2v4z\"/>\n",
              "    </g>\n",
              "</svg>\n",
              "  </button>\n",
              "\n",
              "<style>\n",
              "  .colab-df-quickchart {\n",
              "      --bg-color: #E8F0FE;\n",
              "      --fill-color: #1967D2;\n",
              "      --hover-bg-color: #E2EBFA;\n",
              "      --hover-fill-color: #174EA6;\n",
              "      --disabled-fill-color: #AAA;\n",
              "      --disabled-bg-color: #DDD;\n",
              "  }\n",
              "\n",
              "  [theme=dark] .colab-df-quickchart {\n",
              "      --bg-color: #3B4455;\n",
              "      --fill-color: #D2E3FC;\n",
              "      --hover-bg-color: #434B5C;\n",
              "      --hover-fill-color: #FFFFFF;\n",
              "      --disabled-bg-color: #3B4455;\n",
              "      --disabled-fill-color: #666;\n",
              "  }\n",
              "\n",
              "  .colab-df-quickchart {\n",
              "    background-color: var(--bg-color);\n",
              "    border: none;\n",
              "    border-radius: 50%;\n",
              "    cursor: pointer;\n",
              "    display: none;\n",
              "    fill: var(--fill-color);\n",
              "    height: 32px;\n",
              "    padding: 0;\n",
              "    width: 32px;\n",
              "  }\n",
              "\n",
              "  .colab-df-quickchart:hover {\n",
              "    background-color: var(--hover-bg-color);\n",
              "    box-shadow: 0 1px 2px rgba(60, 64, 67, 0.3), 0 1px 3px 1px rgba(60, 64, 67, 0.15);\n",
              "    fill: var(--button-hover-fill-color);\n",
              "  }\n",
              "\n",
              "  .colab-df-quickchart-complete:disabled,\n",
              "  .colab-df-quickchart-complete:disabled:hover {\n",
              "    background-color: var(--disabled-bg-color);\n",
              "    fill: var(--disabled-fill-color);\n",
              "    box-shadow: none;\n",
              "  }\n",
              "\n",
              "  .colab-df-spinner {\n",
              "    border: 2px solid var(--fill-color);\n",
              "    border-color: transparent;\n",
              "    border-bottom-color: var(--fill-color);\n",
              "    animation:\n",
              "      spin 1s steps(1) infinite;\n",
              "  }\n",
              "\n",
              "  @keyframes spin {\n",
              "    0% {\n",
              "      border-color: transparent;\n",
              "      border-bottom-color: var(--fill-color);\n",
              "      border-left-color: var(--fill-color);\n",
              "    }\n",
              "    20% {\n",
              "      border-color: transparent;\n",
              "      border-left-color: var(--fill-color);\n",
              "      border-top-color: var(--fill-color);\n",
              "    }\n",
              "    30% {\n",
              "      border-color: transparent;\n",
              "      border-left-color: var(--fill-color);\n",
              "      border-top-color: var(--fill-color);\n",
              "      border-right-color: var(--fill-color);\n",
              "    }\n",
              "    40% {\n",
              "      border-color: transparent;\n",
              "      border-right-color: var(--fill-color);\n",
              "      border-top-color: var(--fill-color);\n",
              "    }\n",
              "    60% {\n",
              "      border-color: transparent;\n",
              "      border-right-color: var(--fill-color);\n",
              "    }\n",
              "    80% {\n",
              "      border-color: transparent;\n",
              "      border-right-color: var(--fill-color);\n",
              "      border-bottom-color: var(--fill-color);\n",
              "    }\n",
              "    90% {\n",
              "      border-color: transparent;\n",
              "      border-bottom-color: var(--fill-color);\n",
              "    }\n",
              "  }\n",
              "</style>\n",
              "\n",
              "  <script>\n",
              "    async function quickchart(key) {\n",
              "      const quickchartButtonEl =\n",
              "        document.querySelector('#' + key + ' button');\n",
              "      quickchartButtonEl.disabled = true;  // To prevent multiple clicks.\n",
              "      quickchartButtonEl.classList.add('colab-df-spinner');\n",
              "      try {\n",
              "        const charts = await google.colab.kernel.invokeFunction(\n",
              "            'suggestCharts', [key], {});\n",
              "      } catch (error) {\n",
              "        console.error('Error during call to suggestCharts:', error);\n",
              "      }\n",
              "      quickchartButtonEl.classList.remove('colab-df-spinner');\n",
              "      quickchartButtonEl.classList.add('colab-df-quickchart-complete');\n",
              "    }\n",
              "    (() => {\n",
              "      let quickchartButtonEl =\n",
              "        document.querySelector('#df-1abdf570-1e4d-4334-86fc-f03c2f156ad2 button');\n",
              "      quickchartButtonEl.style.display =\n",
              "        google.colab.kernel.accessAllowed ? 'block' : 'none';\n",
              "    })();\n",
              "  </script>\n",
              "</div>\n",
              "\n",
              "  <div id=\"id_f95df48d-3214-4d18-a5ee-22c70225aa80\">\n",
              "    <style>\n",
              "      .colab-df-generate {\n",
              "        background-color: #E8F0FE;\n",
              "        border: none;\n",
              "        border-radius: 50%;\n",
              "        cursor: pointer;\n",
              "        display: none;\n",
              "        fill: #1967D2;\n",
              "        height: 32px;\n",
              "        padding: 0 0 0 0;\n",
              "        width: 32px;\n",
              "      }\n",
              "\n",
              "      .colab-df-generate:hover {\n",
              "        background-color: #E2EBFA;\n",
              "        box-shadow: 0px 1px 2px rgba(60, 64, 67, 0.3), 0px 1px 3px 1px rgba(60, 64, 67, 0.15);\n",
              "        fill: #174EA6;\n",
              "      }\n",
              "\n",
              "      [theme=dark] .colab-df-generate {\n",
              "        background-color: #3B4455;\n",
              "        fill: #D2E3FC;\n",
              "      }\n",
              "\n",
              "      [theme=dark] .colab-df-generate:hover {\n",
              "        background-color: #434B5C;\n",
              "        box-shadow: 0px 1px 3px 1px rgba(0, 0, 0, 0.15);\n",
              "        filter: drop-shadow(0px 1px 2px rgba(0, 0, 0, 0.3));\n",
              "        fill: #FFFFFF;\n",
              "      }\n",
              "    </style>\n",
              "    <button class=\"colab-df-generate\" onclick=\"generateWithVariable('df_missing')\"\n",
              "            title=\"Generate code using this dataframe.\"\n",
              "            style=\"display:none;\">\n",
              "\n",
              "  <svg xmlns=\"http://www.w3.org/2000/svg\" height=\"24px\"viewBox=\"0 0 24 24\"\n",
              "       width=\"24px\">\n",
              "    <path d=\"M7,19H8.4L18.45,9,17,7.55,7,17.6ZM5,21V16.75L18.45,3.32a2,2,0,0,1,2.83,0l1.4,1.43a1.91,1.91,0,0,1,.58,1.4,1.91,1.91,0,0,1-.58,1.4L9.25,21ZM18.45,9,17,7.55Zm-12,3A5.31,5.31,0,0,0,4.9,8.1,5.31,5.31,0,0,0,1,6.5,5.31,5.31,0,0,0,4.9,4.9,5.31,5.31,0,0,0,6.5,1,5.31,5.31,0,0,0,8.1,4.9,5.31,5.31,0,0,0,12,6.5,5.46,5.46,0,0,0,6.5,12Z\"/>\n",
              "  </svg>\n",
              "    </button>\n",
              "    <script>\n",
              "      (() => {\n",
              "      const buttonEl =\n",
              "        document.querySelector('#id_f95df48d-3214-4d18-a5ee-22c70225aa80 button.colab-df-generate');\n",
              "      buttonEl.style.display =\n",
              "        google.colab.kernel.accessAllowed ? 'block' : 'none';\n",
              "\n",
              "      buttonEl.onclick = () => {\n",
              "        google.colab.notebook.generateWithVariable('df_missing');\n",
              "      }\n",
              "      })();\n",
              "    </script>\n",
              "  </div>\n",
              "\n",
              "    </div>\n",
              "  </div>\n"
            ],
            "application/vnd.google.colaboratory.intrinsic+json": {
              "type": "dataframe",
              "variable_name": "df_missing",
              "summary": "{\n  \"name\": \"df_missing\",\n  \"rows\": 5,\n  \"fields\": [\n    {\n      \"column\": \"Name\",\n      \"properties\": {\n        \"dtype\": \"string\",\n        \"num_unique_values\": 4,\n        \"samples\": [\n          \"Anna\",\n          \"Michael\",\n          \"John\"\n        ],\n        \"semantic_type\": \"\",\n        \"description\": \"\"\n      }\n    },\n    {\n      \"column\": \"Age\",\n      \"properties\": {\n        \"dtype\": \"number\",\n        \"std\": 7.593857166596345,\n        \"min\": 28.0,\n        \"max\": 45.0,\n        \"num_unique_values\": 4,\n        \"samples\": [\n          35.0,\n          45.0,\n          28.0\n        ],\n        \"semantic_type\": \"\",\n        \"description\": \"\"\n      }\n    },\n    {\n      \"column\": \"City\",\n      \"properties\": {\n        \"dtype\": \"string\",\n        \"num_unique_values\": 5,\n        \"samples\": [\n          \"Paris\",\n          \"Tokyo\",\n          \"Berlin\"\n        ],\n        \"semantic_type\": \"\",\n        \"description\": \"\"\n      }\n    },\n    {\n      \"column\": \"Salary\",\n      \"properties\": {\n        \"dtype\": \"number\",\n        \"std\": 6454.972243679028,\n        \"min\": 50000.0,\n        \"max\": 65000.0,\n        \"num_unique_values\": 4,\n        \"samples\": [\n          60000.0,\n          65000.0,\n          50000.0\n        ],\n        \"semantic_type\": \"\",\n        \"description\": \"\"\n      }\n    }\n  ]\n}"
            }
          },
          "metadata": {},
          "execution_count": 5
        }
      ]
    },
    {
      "cell_type": "code",
      "source": [
        "#10: Handling Missing Values Given the DataFrame df_missing from Question 9, replace missing values in the 'Age' column with the mean age of the other records and print the result.\n",
        "mean_age = df_missing['Age'].mean()\n",
        "df_missing['Age'].fillna(mean_age, inplace=True)\n",
        "print(df_missing)"
      ],
      "metadata": {
        "colab": {
          "base_uri": "https://localhost:8080/"
        },
        "id": "5iAQ0_LPXGxz",
        "outputId": "80528b5f-f65f-4cde-a8a7-73ed92819747"
      },
      "execution_count": null,
      "outputs": [
        {
          "output_type": "stream",
          "name": "stdout",
          "text": [
            "      Name   Age      City   Salary\n",
            "0     John  28.0  New York  50000.0\n",
            "1     Anna  35.0     Paris  60000.0\n",
            "2     None  37.5    Berlin  55000.0\n",
            "3    Linda  42.0    London      NaN\n",
            "4  Michael  45.0     Tokyo  65000.0\n"
          ]
        }
      ]
    },
    {
      "cell_type": "code",
      "source": [
        "#11: Grouping Data Given the DataFrame df from Question 1, group the data by 'City' and calculate the mean age for each city.\n",
        "mean_age_by_city = df.groupby('City')['Age'].mean()\n",
        "print(mean_age_by_city)"
      ],
      "metadata": {
        "id": "VpOIQvGFINI_",
        "colab": {
          "base_uri": "https://localhost:8080/"
        },
        "outputId": "5daa1a7e-685c-4be9-acd1-53b09206d33c"
      },
      "execution_count": null,
      "outputs": [
        {
          "output_type": "stream",
          "name": "stdout",
          "text": [
            "City\n",
            "Berlin      29.0\n",
            "London      42.0\n",
            "New York    28.0\n",
            "Paris       35.0\n",
            "Tokyo       45.0\n",
            "Name: Age, dtype: float64\n"
          ]
        }
      ]
    },
    {
      "cell_type": "code",
      "source": [
        "#12: Merging DataFrames Create two DataFrames named df1 and df2 as follows:\n",
        "df1 = pd.DataFrame({'A': [1, 2, 3], 'B': [4, 5, 6]})\n",
        "df2 = pd.DataFrame({'A': [7, 8, 9], 'B': [10, 11, 12]})\n",
        "df3=pd.merge(df1,df2,how='outer')\n",
        "print(df3)"
      ],
      "metadata": {
        "id": "x1ClMfySINSW",
        "colab": {
          "base_uri": "https://localhost:8080/"
        },
        "outputId": "fdb074c9-4430-478f-df01-2568f9281567"
      },
      "execution_count": 14,
      "outputs": [
        {
          "output_type": "stream",
          "name": "stdout",
          "text": [
            "   A   B\n",
            "0  1   4\n",
            "1  2   5\n",
            "2  3   6\n",
            "3  7  10\n",
            "4  8  11\n",
            "5  9  12\n"
          ]
        }
      ]
    },
    {
      "cell_type": "code",
      "source": [
        "#13: Dropping Columns Given the DataFrame df from Question 1, drop the 'City' column and print the result.\n",
        "drop=df.drop(columns=['City'])\n",
        "print(drop)"
      ],
      "metadata": {
        "colab": {
          "base_uri": "https://localhost:8080/"
        },
        "id": "0c8A7hVJBeU4",
        "outputId": "ee45f5cb-eac1-4592-aecf-7f6d56db3aff"
      },
      "execution_count": 19,
      "outputs": [
        {
          "output_type": "stream",
          "name": "stdout",
          "text": [
            "      Name  Age  Salary\n",
            "0     John   28   50000\n",
            "1     Anna   35   60000\n",
            "2    Peter   29   55000\n",
            "3    Linda   42   70000\n",
            "4  Michael   45   65000\n"
          ]
        }
      ]
    },
    {
      "cell_type": "code",
      "source": [
        "#14: Renaming Columns Given the DataFrame df from Question 1, rename the columns to 'Full Name', 'Years Old', and 'Location' and print the result.\n",
        "df.rename(columns={'Name': 'Full Name', 'Age': 'Years Old', 'Salary': 'Location'})\n",
        "print(df)"
      ],
      "metadata": {
        "colab": {
          "base_uri": "https://localhost:8080/"
        },
        "id": "a6zN_-vwDB2Z",
        "outputId": "ecb655c2-571a-4994-a585-2d04e777e514"
      },
      "execution_count": 22,
      "outputs": [
        {
          "output_type": "stream",
          "name": "stdout",
          "text": [
            "  Full Name  Years Old      City  Location\n",
            "0      John         28  New York     50000\n",
            "1      Anna         35     Paris     60000\n",
            "2     Peter         29    Berlin     55000\n",
            "3     Linda         42    London     70000\n",
            "4   Michael         45     Tokyo     65000\n"
          ]
        }
      ]
    },
    {
      "cell_type": "code",
      "source": [
        "#15: Indexing Given the DataFrame df from Question 1, set the 'Name' column as the index and print the result\n",
        "new_df=df.set_index('Name')\n",
        "print(new_df)"
      ],
      "metadata": {
        "colab": {
          "base_uri": "https://localhost:8080/"
        },
        "id": "xnzdq-pdDCCu",
        "outputId": "368b3bb4-3a37-41b1-cd8a-337ea994b0a3"
      },
      "execution_count": 25,
      "outputs": [
        {
          "output_type": "stream",
          "name": "stdout",
          "text": [
            "         Age      City  Salary\n",
            "Name                          \n",
            "John      28  New York   50000\n",
            "Anna      35     Paris   60000\n",
            "Peter     29    Berlin   55000\n",
            "Linda     42    London   70000\n",
            "Michael   45     Tokyo   65000\n"
          ]
        }
      ]
    },
    {
      "cell_type": "code",
      "source": [
        "#16: Reset Index Given the DataFrame with the 'Age' column as the index, reset the index and print the result.\n",
        "new_df=df.set_index('Age')\n",
        "print(new_df)"
      ],
      "metadata": {
        "id": "CUeq8a8JIzIM",
        "colab": {
          "base_uri": "https://localhost:8080/"
        },
        "outputId": "4cc788ca-6d65-4a20-9704-8a2bd81a7d00"
      },
      "execution_count": 26,
      "outputs": [
        {
          "output_type": "stream",
          "name": "stdout",
          "text": [
            "        Name      City  Salary\n",
            "Age                           \n",
            "28      John  New York   50000\n",
            "35      Anna     Paris   60000\n",
            "29     Peter    Berlin   55000\n",
            "42     Linda    London   70000\n",
            "45   Michael     Tokyo   65000\n"
          ]
        }
      ]
    },
    {
      "cell_type": "code",
      "source": [
        "#17: Unique Values Given the DataFrame df from Question 1, print the unique values in the 'City' column.\n",
        "print(df['City'].unique())"
      ],
      "metadata": {
        "id": "0IZB-43UIzUz",
        "colab": {
          "base_uri": "https://localhost:8080/"
        },
        "outputId": "4d8cdf25-943d-4546-92df-89aa7cc9d159"
      },
      "execution_count": 27,
      "outputs": [
        {
          "output_type": "stream",
          "name": "stdout",
          "text": [
            "['New York' 'Paris' 'Berlin' 'London' 'Tokyo']\n"
          ]
        }
      ]
    },
    {
      "cell_type": "code",
      "source": [
        "# 18: Value Counts Given the DataFrame df from Question 1, print the value counts for the 'Age' column.\n",
        "print(df['Age'].value_counts())"
      ],
      "metadata": {
        "colab": {
          "base_uri": "https://localhost:8080/"
        },
        "id": "qpRUfkIaDQYR",
        "outputId": "e52011e2-7273-4c6e-8318-8ef92caff173"
      },
      "execution_count": 28,
      "outputs": [
        {
          "output_type": "stream",
          "name": "stdout",
          "text": [
            "28    1\n",
            "35    1\n",
            "29    1\n",
            "42    1\n",
            "45    1\n",
            "Name: Age, dtype: int64\n"
          ]
        }
      ]
    }
  ]
}