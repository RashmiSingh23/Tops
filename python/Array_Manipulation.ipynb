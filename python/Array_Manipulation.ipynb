{
  "nbformat": 4,
  "nbformat_minor": 0,
  "metadata": {
    "colab": {
      "provenance": []
    },
    "kernelspec": {
      "name": "python3",
      "display_name": "Python 3"
    },
    "language_info": {
      "name": "python"
    }
  },
  "cells": [
    {
      "cell_type": "code",
      "source": [
        "# 1: Given a 1D NumPy array arr_1d, extract and print the first element.\n",
        "import numpy as np\n",
        "arr = np.array([1, 2, 3, 4, 5])\n",
        "print(arr[0])"
      ],
      "metadata": {
        "colab": {
          "base_uri": "https://localhost:8080/",
          "height": 0
        },
        "id": "7zKTsqtyUNhg",
        "outputId": "90da1805-a74a-4d73-f74b-7e989ec99f72"
      },
      "execution_count": 2,
      "outputs": [
        {
          "output_type": "stream",
          "name": "stdout",
          "text": [
            "1\n"
          ]
        }
      ]
    },
    {
      "cell_type": "code",
      "source": [
        "#2: Given a 1D NumPy array arr_1d, extract and print the last three elements.\n",
        "\n",
        "arr = np.array([1, 2, 3, 4, 5])\n",
        "print(arr[2:])"
      ],
      "metadata": {
        "colab": {
          "base_uri": "https://localhost:8080/"
        },
        "id": "5U9Sx3gJUNr5",
        "outputId": "98c173c5-f2b3-4b6e-ed05-96148c59133e"
      },
      "execution_count": null,
      "outputs": [
        {
          "output_type": "stream",
          "name": "stdout",
          "text": [
            "[3 4 5]\n"
          ]
        }
      ]
    },
    {
      "cell_type": "code",
      "source": [
        "#3: Given a 2D NumPy array arr_2d, extract and print the element at the second row and third column.\n",
        "\n",
        "arr3 = np.array([[1, 2, 3], [4, 5, 6], [7, 8, 9]])\n",
        "print(arr3[1,2])"
      ],
      "metadata": {
        "colab": {
          "base_uri": "https://localhost:8080/",
          "height": 0
        },
        "id": "LTaaN_OxUOBU",
        "outputId": "61c65109-5baa-4332-9d46-43fb62fe1e97"
      },
      "execution_count": 7,
      "outputs": [
        {
          "output_type": "stream",
          "name": "stdout",
          "text": [
            "6\n"
          ]
        }
      ]
    },
    {
      "cell_type": "code",
      "source": [
        "#4: Given a 2D NumPy array arr_2d, extract and print the first row.\n",
        "\n",
        "arr = np.array([[1, 2, 3], [4, 5, 6], [7, 8, 9]])\n",
        "print(arr[0])"
      ],
      "metadata": {
        "colab": {
          "base_uri": "https://localhost:8080/",
          "height": 0
        },
        "id": "WG0qptIcVkO_",
        "outputId": "e9f5f064-c3e3-41ca-f8d8-4ddc54f391d3"
      },
      "execution_count": 8,
      "outputs": [
        {
          "output_type": "stream",
          "name": "stdout",
          "text": [
            "[1 2 3]\n"
          ]
        }
      ]
    },
    {
      "cell_type": "code",
      "source": [
        "#5: Given a 2D NumPy array arr_2d, extract and print the last column.\n",
        "\n",
        "arr = np.array([[1, 2, 3], [4, 5, 6], [7, 8, 9]])\n",
        "print(arr[:,-1])"
      ],
      "metadata": {
        "colab": {
          "base_uri": "https://localhost:8080/",
          "height": 0
        },
        "id": "oj_lGjtAVvEK",
        "outputId": "4169a302-4cc0-4cc0-f658-833b6ba6de61"
      },
      "execution_count": 10,
      "outputs": [
        {
          "output_type": "stream",
          "name": "stdout",
          "text": [
            "[3 6 9]\n"
          ]
        }
      ]
    },
    {
      "cell_type": "code",
      "source": [
        "#6: Given a 3D NumPy array arr_3d, extract and print the element at the second matrix, third row, and third column.\n",
        "\n",
        "arr = np.array([[[1, 2, 3], [4, 5, 6], [7, 8, 9]], [[10, 11, 12], [13, 14, 15], [16, 17, 18]]])\n",
        "print(arr[1,2,2])"
      ],
      "metadata": {
        "colab": {
          "base_uri": "https://localhost:8080/",
          "height": 0
        },
        "id": "5cYWDoCJVvQ8",
        "outputId": "33b2f335-0d3c-438d-b104-35c051ddcf2c"
      },
      "execution_count": 12,
      "outputs": [
        {
          "output_type": "stream",
          "name": "stdout",
          "text": [
            "18\n"
          ]
        }
      ]
    },
    {
      "cell_type": "code",
      "source": [
        "#7: Given a 3D NumPy array arr_3d, extract and print the first matrix.\n",
        "\n",
        "arr = np.array([[[1, 2, 3], [4, 5, 6], [7, 8, 9]], [[10, 11, 12], [13, 14, 15], [16, 17, 18]]])\n",
        "print(arr[0])"
      ],
      "metadata": {
        "colab": {
          "base_uri": "https://localhost:8080/",
          "height": 0
        },
        "id": "Rjcc-yHFXBIN",
        "outputId": "021362ea-0b1d-4fd5-e15b-e19f8bd8967d"
      },
      "execution_count": 13,
      "outputs": [
        {
          "output_type": "stream",
          "name": "stdout",
          "text": [
            "[[1 2 3]\n",
            " [4 5 6]\n",
            " [7 8 9]]\n"
          ]
        }
      ]
    },
    {
      "cell_type": "code",
      "source": [
        "#8: Given a 3D NumPy array arr_3d, extract and print the last matrix.\n",
        "\n",
        "arr = np.array([[[1, 2, 3], [4, 5, 6], [7, 8, 9]], [[10, 11, 12], [13, 14, 15], [16, 17, 18]]])\n",
        "print(arr[-1])"
      ],
      "metadata": {
        "colab": {
          "base_uri": "https://localhost:8080/",
          "height": 0
        },
        "id": "PzlDD2YwXDTt",
        "outputId": "6314e8a6-4cc5-4b1d-a8ad-3dab2e5b451b"
      },
      "execution_count": 14,
      "outputs": [
        {
          "output_type": "stream",
          "name": "stdout",
          "text": [
            "[[10 11 12]\n",
            " [13 14 15]\n",
            " [16 17 18]]\n"
          ]
        }
      ]
    },
    {
      "cell_type": "code",
      "source": [
        "#1: Given a 2D NumPy array arr_2d, transpose the array and print the result.\n",
        "arr = np.array([[1, 2, 3], [4, 5, 6]])\n",
        "arr1=np.transpose(arr)\n",
        "print(arr1)"
      ],
      "metadata": {
        "colab": {
          "base_uri": "https://localhost:8080/"
        },
        "id": "LiKE18_0YA5l",
        "outputId": "4b3a457c-a71f-44f9-ec58-9910be06391c"
      },
      "execution_count": null,
      "outputs": [
        {
          "output_type": "stream",
          "name": "stdout",
          "text": [
            "[[1 4]\n",
            " [2 5]\n",
            " [3 6]]\n"
          ]
        }
      ]
    },
    {
      "cell_type": "code",
      "source": [
        "#2: Reshape Array\n",
        "#Given a 1D NumPy array arr_1d, reshape it into a 3x2 array and print the result.\n",
        "arr_1 = np.array([1, 2, 3, 4, 5, 6])\n",
        "arr=np.reshape(arr_1,(3,2))\n",
        "print(arr)"
      ],
      "metadata": {
        "colab": {
          "base_uri": "https://localhost:8080/"
        },
        "id": "Na8RiA-ZYBDV",
        "outputId": "b36df0c0-b779-42a3-cecc-31a847ce99c2"
      },
      "execution_count": null,
      "outputs": [
        {
          "output_type": "stream",
          "name": "stdout",
          "text": [
            "[[1 2]\n",
            " [3 4]\n",
            " [5 6]]\n"
          ]
        }
      ]
    },
    {
      "cell_type": "code",
      "source": [
        "#3: Resize Array\n",
        "#Given a 1D NumPy array arr_1d, resize it into a 3x3 array and print the result.\n",
        "arr_1d = np.array([1, 2, 3, 4, 5, 6, 7, 8])\n",
        "arr=np.resize(arr_1d,(3,3))\n",
        "print(arr)"
      ],
      "metadata": {
        "colab": {
          "base_uri": "https://localhost:8080/"
        },
        "id": "3tzB75L4ZUqT",
        "outputId": "81f741cc-5042-4eb5-f896-fbbad6321c82"
      },
      "execution_count": null,
      "outputs": [
        {
          "output_type": "stream",
          "name": "stdout",
          "text": [
            "[[1 2 3]\n",
            " [4 5 6]\n",
            " [7 8 1]]\n"
          ]
        }
      ]
    },
    {
      "cell_type": "code",
      "source": [
        "#4: Flatten Array\n",
        "#Given a 2D NumPy array arr_2d, flatten it and print the result.\n",
        "arr_2d = np.array([[1, 2, 3], [4, 5, 6]])\n",
        "arr=arr_2d.flatten()\n",
        "arr"
      ],
      "metadata": {
        "colab": {
          "base_uri": "https://localhost:8080/"
        },
        "id": "p00dLOHsZU2Q",
        "outputId": "406b836b-d6e2-41c3-a7e2-66ea915fe6e0"
      },
      "execution_count": null,
      "outputs": [
        {
          "output_type": "execute_result",
          "data": {
            "text/plain": [
              "array([1, 2, 3, 4, 5, 6])"
            ]
          },
          "metadata": {},
          "execution_count": 30
        }
      ]
    },
    {
      "cell_type": "code",
      "source": [
        "#5: Transpose Array\n",
        "#Given a 3D NumPy array arr_3d, transpose the array and print the result.\n",
        "\n",
        "arr = np.array([[[1, 2], [3, 4]], [[5, 6], [7, 8]], [[9, 10], [11, 12]]])\n",
        "arr1=np.transpose(arr)\n",
        "print(arr1)\n",
        "\n"
      ],
      "metadata": {
        "colab": {
          "base_uri": "https://localhost:8080/"
        },
        "id": "4TAsxEZkaWlm",
        "outputId": "90a9aa4b-db9e-4a28-bd71-e8b7d064b6dc"
      },
      "execution_count": null,
      "outputs": [
        {
          "output_type": "stream",
          "name": "stdout",
          "text": [
            "[[[ 1  5  9]\n",
            "  [ 3  7 11]]\n",
            "\n",
            " [[ 2  6 10]\n",
            "  [ 4  8 12]]]\n"
          ]
        }
      ]
    },
    {
      "cell_type": "code",
      "source": [
        "#6: Reshape Array\n",
        "#Given a 1D NumPy array arr_1d, reshape it into a 4x3 array and print the result.\n",
        "\n",
        "arr_1d = np.array([1, 2, 3, 4, 5, 6, 7, 8, 9, 10, 11, 12])\n",
        "arr=np.reshape(arr_1d,(4,3))\n",
        "print(arr)\n"
      ],
      "metadata": {
        "colab": {
          "base_uri": "https://localhost:8080/",
          "height": 0
        },
        "id": "7jsDIEIXaWpI",
        "outputId": "f059beb0-9d02-41c5-aae5-183847acbbf2"
      },
      "execution_count": 4,
      "outputs": [
        {
          "output_type": "stream",
          "name": "stdout",
          "text": [
            "[[ 1  2  3]\n",
            " [ 4  5  6]\n",
            " [ 7  8  9]\n",
            " [10 11 12]]\n"
          ]
        }
      ]
    },
    {
      "cell_type": "code",
      "source": [
        "#7: Resize Array\n",
        "#Given a 2D NumPy array arr_2d, resize it into a 4x4 array and print the result.\n",
        "arr_2d = np.array([[1, 2], [3, 4]])\n",
        "arr=np.resize(arr_2d,(4,4))\n",
        "print(arr)"
      ],
      "metadata": {
        "id": "8IMCr0eBaWyM"
      },
      "execution_count": null,
      "outputs": []
    },
    {
      "cell_type": "code",
      "source": [],
      "metadata": {
        "colab": {
          "base_uri": "https://localhost:8080/",
          "height": 0
        },
        "id": "4OobwkZQNuYu",
        "outputId": "4590ea4a-2b2c-454a-b9b2-5b767e289050"
      },
      "execution_count": 5,
      "outputs": [
        {
          "output_type": "stream",
          "name": "stdout",
          "text": [
            "[[1 2 3 4]\n",
            " [1 2 3 4]\n",
            " [1 2 3 4]\n",
            " [1 2 3 4]]\n"
          ]
        }
      ]
    },
    {
      "cell_type": "code",
      "source": [
        "#8: Flatten Array\n",
        "#Given a 3D NumPy array arr_3d, flatten it and print the result.\n",
        "\n",
        "arr_3d = np.array([[[1, 2], [3, 4]], [[5, 6], [7, 8]]])\n",
        "arr=arr_3d.flatten()\n",
        "print(arr)"
      ],
      "metadata": {
        "colab": {
          "base_uri": "https://localhost:8080/",
          "height": 0
        },
        "id": "9TUWYIGsNR6c",
        "outputId": "af9e12b6-0f51-4261-e91b-ce99b88da526"
      },
      "execution_count": 6,
      "outputs": [
        {
          "output_type": "stream",
          "name": "stdout",
          "text": [
            "[1 2 3 4 5 6 7 8]\n"
          ]
        }
      ]
    }
  ]
}