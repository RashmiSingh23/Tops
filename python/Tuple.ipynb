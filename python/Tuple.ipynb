{
  "nbformat": 4,
  "nbformat_minor": 0,
  "metadata": {
    "colab": {
      "provenance": []
    },
    "kernelspec": {
      "name": "python3",
      "display_name": "Python 3"
    },
    "language_info": {
      "name": "python"
    }
  },
  "cells": [
    {
      "cell_type": "markdown",
      "source": [
        "Question no 1: Given a tuple my_tuple = (10, 20, 30, 40, 50), how can you access the element 30 from the tuple using positive indexing? Write a Python program to achieve this.\n",
        "\n",
        "Question no 2: Suppose you have a tuple my_tuple = (15, 25, 35, 45, 55), how can you access the element 45 from the tuple using negative indexing? Write a Python program to achieve this.\n",
        "\n",
        "Question no 3: Given a tuple my_tuple = (1, 2, 3, (4, 5, 6)), how can you access the element 5 from the nested tuple within it using nested indexing? Write a Python program to achieve this.\n",
        "\n",
        "Question no 4: Suppose you have a tuple my_tuple = (10, 20, 30, 40, 50), how can you slice the tuple to obtain (20, 30, 40)? Write a Python program to achieve this.\n",
        "\n",
        "Question no 5: Given a tuple my_tuple = (1, 2, 3, 4, 5), how can you access the last element without knowing its index? Write a Python program to achieve this.\n",
        "\n",
        "Question no 6: Suppose you have two tuples tuple1 = (10, 20, 30) and tuple2 = (40, 50, 60), how can you concatenate them into a single tuple? Write a Python program to achieve this.\n",
        "\n",
        "Question no 7: Given a tuple my_tuple = ('a', 'b', 'c', 'd', 'e'), how can you check if the element 'c' exists in the tuple? Write a Python program to achieve this.\n",
        "\n",
        "Question no 8: Suppose you have a tuple my_tuple = ('apple', 'banana', 'cherry', 'apple'), how can you count the number of occurrences of 'apple' in the tuple? Write a Python program to achieve this.\n",
        "\n",
        "Question no 9: Given a tuple my_tuple = (3.14, 'hello', True, (1, 2, 3)), how can you access the nested tuple (1, 2, 3) from it? Write a Python program to achieve this.\n",
        "\n",
        "Question no 10: Suppose you have a tuple my_tuple = (10, 20, 30), how can you convert it into a list? Write a Python program to achieve this.\n",
        "\n",
        "\n",
        "\n",
        "Question no 12: Suppose you have a tuple my_tuple = (10, 20, 30, 40, 50), how can you find the smallest and largest elements in the tuple? Write a Python program to achieve this.\n",
        "\n",
        "\n",
        "\n",
        "Question no 15: Given two tuples tuple1 = (1, 2, 3) and tuple2 = (4, 5, 6), how can you check if the two tuples are equal? Write a Python program to achieve this.\n"
      ],
      "metadata": {
        "id": "KEnbWH_zmqLF"
      }
    },
    {
      "cell_type": "code",
      "source": [
        "#Question no 1: Given a tuple my_tuple = (10, 20, 30, 40, 50), how can you access the element 30 from the tuple using positive indexing? Write a Python program to achieve this.\n",
        "my_tuple = (10, 20, 30, 40, 50)\n",
        "print(my_tuple[2])"
      ],
      "metadata": {
        "id": "kb0gmYGuHzjn",
        "outputId": "68306e72-1789-4c0d-e989-a2a18c039af1",
        "colab": {
          "base_uri": "https://localhost:8080/"
        }
      },
      "execution_count": null,
      "outputs": [
        {
          "output_type": "stream",
          "name": "stdout",
          "text": [
            "30\n"
          ]
        }
      ]
    },
    {
      "cell_type": "code",
      "execution_count": null,
      "metadata": {
        "id": "KtfIQgiOHarI",
        "outputId": "26371524-c210-400f-bc6d-38f542b73dbd",
        "colab": {
          "base_uri": "https://localhost:8080/"
        }
      },
      "outputs": [
        {
          "output_type": "stream",
          "name": "stdout",
          "text": [
            "45\n"
          ]
        }
      ],
      "source": [
        "#Question no 2: Suppose you have a tuple my_tuple = (15, 25, 35, 45, 55), how can you access the element 45 from the tuple using negative indexing? Write a Python program to achieve this.\n",
        "my_tuple = (15, 25, 35, 45, 55)\n",
        "print(my_tuple[-2])\n"
      ]
    },
    {
      "cell_type": "code",
      "source": [
        "#3: Given a tuple my_tuple = (1, 2, 3, (4, 5, 6)), how can you access the element 5 from the nested tuple within it using nested indexing? Write a Python program to achieve this\n",
        "my_tuple = (1, 2, 3, (4, 5, 6))\n",
        "print(my_tuple[3][1])"
      ],
      "metadata": {
        "id": "39W415viIYlw",
        "colab": {
          "base_uri": "https://localhost:8080/"
        },
        "outputId": "1a332d72-b586-46d5-b307-88929c38ad03"
      },
      "execution_count": 1,
      "outputs": [
        {
          "output_type": "stream",
          "name": "stdout",
          "text": [
            "5\n"
          ]
        }
      ]
    },
    {
      "cell_type": "code",
      "source": [
        "#4: Suppose you have a tuple my_tuple = (10, 20, 30, 40, 50), how can you slice the tuple to obtain (20, 30, 40)? Write a Python program to achieve this.\n",
        "my_tuple = (10, 20, 30, 40, 50)\n",
        "print(my_tuple[1:4])"
      ],
      "metadata": {
        "id": "NpixP6zKIY7G",
        "outputId": "d886c1f9-0f9d-4e0e-c95e-5b453582c1f8",
        "colab": {
          "base_uri": "https://localhost:8080/"
        }
      },
      "execution_count": null,
      "outputs": [
        {
          "output_type": "stream",
          "name": "stdout",
          "text": [
            "(20, 30, 40)\n"
          ]
        }
      ]
    },
    {
      "cell_type": "code",
      "source": [
        "#5: Given a tuple my_tuple = (1, 2, 3, 4, 5), how can you access the last element without knowing its index? Write a Python program to achieve this.\n",
        "my_tuple = (1, 2, 3, 4, 5)\n",
        "print(my_tuple[-1])\n"
      ],
      "metadata": {
        "id": "7d1CO-RhIZek",
        "colab": {
          "base_uri": "https://localhost:8080/"
        },
        "outputId": "0d076ff7-bbce-41b9-852a-60e1c344887b"
      },
      "execution_count": 2,
      "outputs": [
        {
          "output_type": "stream",
          "name": "stdout",
          "text": [
            "5\n"
          ]
        }
      ]
    },
    {
      "cell_type": "code",
      "source": [
        "# 6: Suppose you have two tuples tuple1 = (10, 20, 30) and tuple2 = (40, 50, 60), how can you concatenate them into a single tuple? Write a Python program to achieve this.\n",
        "tuple1 = (10, 20, 30)\n",
        "tuple2 = (40, 50, 60)\n",
        "t3=tuple1+tuple2\n",
        "print(t3)"
      ],
      "metadata": {
        "id": "Y4mcmEHWJzZM",
        "outputId": "acaa17cc-d0fb-47c7-c335-c8fc6dfc66c0",
        "colab": {
          "base_uri": "https://localhost:8080/"
        }
      },
      "execution_count": null,
      "outputs": [
        {
          "output_type": "stream",
          "name": "stdout",
          "text": [
            "(10, 20, 30, 40, 50, 60)\n"
          ]
        }
      ]
    },
    {
      "cell_type": "code",
      "source": [
        "# 7: Given a tuple my_tuple = ('a', 'b', 'c', 'd', 'e'), how can you check if the element 'c' exists in the tuple? Write a Python program to achieve this.\n",
        "my_tuple = ('a', 'b', 'c', 'd', 'e')\n",
        "print('c' in my_tuple)"
      ],
      "metadata": {
        "id": "vZFoQOisJzsm",
        "outputId": "b4e2ed14-b39d-44fd-ff9b-441ed4667a35",
        "colab": {
          "base_uri": "https://localhost:8080/"
        }
      },
      "execution_count": null,
      "outputs": [
        {
          "output_type": "stream",
          "name": "stdout",
          "text": [
            "True\n"
          ]
        }
      ]
    },
    {
      "cell_type": "code",
      "source": [
        "# 8:my_tuple = ('apple', 'banana', 'cherry', 'apple'), how can you count the number of occurrences of 'apple' in the tuple? Write a Python program to achieve this\n",
        "my_tuple = ('apple', 'banana', 'cherry', 'apple')\n",
        "print(my_tuple.count('apple'))"
      ],
      "metadata": {
        "id": "de787ktRJ-si",
        "outputId": "0b1d0178-6324-4cef-c290-c2f122c1f30f",
        "colab": {
          "base_uri": "https://localhost:8080/"
        }
      },
      "execution_count": null,
      "outputs": [
        {
          "output_type": "stream",
          "name": "stdout",
          "text": [
            "2\n"
          ]
        }
      ]
    },
    {
      "cell_type": "code",
      "source": [
        "#9: Given a tuple my_tuple = (3.14, 'hello', True, (1, 2, 3)), how can you access the nested tuple (1, 2, 3) from it? Write a Python program to achieve this\n",
        "my_tuple = (3.14, 'hello', True, (1, 2, 3))\n",
        "print(my_tuple[3])"
      ],
      "metadata": {
        "id": "JvLzmI5MJ-9w",
        "outputId": "120bca22-c968-4bca-a518-4740ddd87f67",
        "colab": {
          "base_uri": "https://localhost:8080/"
        }
      },
      "execution_count": null,
      "outputs": [
        {
          "output_type": "stream",
          "name": "stdout",
          "text": [
            "(1, 2, 3)\n"
          ]
        }
      ]
    },
    {
      "cell_type": "code",
      "source": [
        "#10: Suppose you have a tuple my_tuple = (10, 20, 30), how can you convert it into a list? Write a Python program to achieve this.\n",
        "my_tuple = (10, 20, 30)\n",
        "l1=list(my_tuple)\n",
        "print(l1)"
      ],
      "metadata": {
        "id": "u9hHQZVbLOqL",
        "outputId": "41a9a3c7-f0ad-4c6e-d477-7aab6a229606",
        "colab": {
          "base_uri": "https://localhost:8080/"
        }
      },
      "execution_count": null,
      "outputs": [
        {
          "output_type": "stream",
          "name": "stdout",
          "text": [
            "[10, 20, 30]\n"
          ]
        }
      ]
    },
    {
      "cell_type": "code",
      "source": [
        "#12:my_tuple = (10, 20, 30, 40, 50), how can you find the smallest and largest elements in the tuple? Write a Python program to achieve this\n",
        "my_tuple = (10, 20, 30, 40, 50)\n",
        "print(min(my_tuple))\n",
        "print(max(my_tuple))"
      ],
      "metadata": {
        "id": "xs7MunxNLO6h",
        "outputId": "99afbdc3-eaab-43f8-bb60-7703c9248fa4",
        "colab": {
          "base_uri": "https://localhost:8080/"
        }
      },
      "execution_count": null,
      "outputs": [
        {
          "output_type": "stream",
          "name": "stdout",
          "text": [
            "10\n",
            "50\n"
          ]
        }
      ]
    },
    {
      "cell_type": "code",
      "source": [
        "#15: Given two tuples tuple1 = (1, 2, 3) and tuple2 = (4, 5, 6), how can you check if the two tuples are equal? Write a Python program to achieve this.\n",
        "tuple1 = (1, 2, 3)\n",
        "tuple2 = (4, 5, 6)\n",
        "print(tuple1==tuple2)\n"
      ],
      "metadata": {
        "id": "Q2P9y4dkMGIU",
        "outputId": "5834ee23-8a30-4d77-d5ea-0bf5a90d63ad",
        "colab": {
          "base_uri": "https://localhost:8080/"
        }
      },
      "execution_count": null,
      "outputs": [
        {
          "output_type": "stream",
          "name": "stdout",
          "text": [
            "False\n"
          ]
        }
      ]
    }
  ]
}