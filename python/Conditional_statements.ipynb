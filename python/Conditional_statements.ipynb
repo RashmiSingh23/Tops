{
  "nbformat": 4,
  "nbformat_minor": 0,
  "metadata": {
    "colab": {
      "provenance": []
    },
    "kernelspec": {
      "name": "python3",
      "display_name": "Python 3"
    },
    "language_info": {
      "name": "python"
    }
  },
  "cells": [
    {
      "cell_type": "code",
      "execution_count": null,
      "metadata": {
        "id": "zxQoTcb3WPxT"
      },
      "outputs": [],
      "source": [
        "#Question 1: Write a Python program that checks if a given number is even. If it is, print \"Even number\".\n",
        "Question 2: Write a Python program that checks if a given string contains the letter 'a'. If it does, print \"String contains 'a'\".\n",
        "Question 3: Write a Python program that checks if a given year is a leap year. If it is, print \"Leap year\".\n",
        "Question 4: Write a Python program that checks if a given number is positive. If it is, print \"Positive number\".\n",
        "Question 5: Write a Python program that checks if a given character is a vowel. If it is, print \"Vowel\".\n",
        "Question 6: Write a Python program that checks if a given number is greater than 100. If it is, print \"Greater than 100\".\n",
        "Question 7: Write a Python program that checks if a given string is empty. If it is, print \"Empty string\".\n",
        "Question 8: Write a Python program that checks if a given number is divisible by both 5 and 7. If it is, print \"Divisible by 5 and 7\".\n",
        "Question 9: Write a Python program that checks if a given list contains any negative numbers. If it does, print \"List contains negative numbers\".\n",
        "Question 10: Write a Python program that checks if a given word is a palindrome. If it is, print \"Palindrome\".\n",
        "if-else statements:\n",
        "Question 1: Write a Python program that checks if a given number is positive. If it is, print \"Positive number\"; otherwise, print \"Negative number\".\n",
        "Question 2: Write a Python program that checks if a given string is empty. If it is, print \"Empty string\"; otherwise, print \"Non-empty string\".\n",
        "Question 3: Write a Python program that checks if a given number is even. If it is, print \"Even number\"; otherwise, print \"Odd number\".\n",
        "Question 4: Write a Python program that checks if a given character is a vowel. If it is, print \"Vowel\"; otherwise, print \"Consonant\".\n",
        "Question 5: Write a Python program that checks if a given year is a leap year. If it is, print \"Leap year\"; otherwise, print \"Not a leap year\".\n",
        "Question 6: Write a Python program that checks if a given number is divisible by 3. If it is, print \"Divisible by 3\"; otherwise, print \"Not divisible by 3\".\n",
        "Question 7: Write a Python program that checks if a given string is a palindrome. If it is, print \"Palindrome\"; otherwise, print \"Not a palindrome\".\n",
        "Question 8: Write a Python program that checks if a given list is empty. If it is, print \"Empty list\"; otherwise, print \"Non-empty list\".\n",
        "Question 9: Write a Python program that checks if a given number is greater than, less than, or equal to 50. Print the corresponding message.\n",
        "Question 10: Write a Python program that checks if a given character is an uppercase letter. If it is, print \"Uppercase\"; otherwise, print \"Lowercase\".\n",
        "if-elif-else statements:\n",
        "Question 1: Write a Python program that checks if a given number is positive, negative, or zero. Print the corresponding message.\n",
        "Question 2: Write a Python program that compares two numbers and prints the larger number.\n",
        "Question 3: Write a Python program that determines whether a given temperature is hot, warm, or cold. Print the corresponding message.\n",
        "Question 4: Write a Python program that checks if a given year is a leap year, a century year, or neither. Print the corresponding message.\n",
        "Question 5: Write a Python program that categorizes a given character into uppercase letter, lowercase letter, digit, or special character. Print the corresponding message.\n",
        "Question 6: Write a Python program that calculates the discount percentage based on the purchase amount. Print the corresponding discount percentage.\n",
        "Question 7: Write a Python program that checks if a given number is divisible by 2, 3, 5, or none of them. Print the corresponding message.\n",
        "Question 8: Write a Python program that determines the grade based on the percentage obtained. Print the corresponding grade.\n",
        "Question 9: Write a Python program that checks if a given number is within a specific range. Print the corresponding message.\n",
        "Question 10: Write a Python program that checks if a given string is an English word, a number, or a combination of both. Print the corresponding message"
      ]
    },
    {
      "cell_type": "code",
      "source": [
        "##Question 1: Write a Python program that checks if a given number is even. If it is, print \"Even number\".\n",
        "num = int(input(\"Enter a number: \"))\n",
        "if num % 2 == 0:\n",
        "  print(\"Number is even\")\n",
        "else:\n",
        "  print(\"Number is odd\")"
      ],
      "metadata": {
        "colab": {
          "base_uri": "https://localhost:8080/"
        },
        "id": "8KgoMtPo0cye",
        "outputId": "b7887050-1703-4e8d-acff-d4420e045050"
      },
      "execution_count": 2,
      "outputs": [
        {
          "output_type": "stream",
          "name": "stdout",
          "text": [
            "Enter a number: 56\n",
            "Number is even\n"
          ]
        }
      ]
    },
    {
      "cell_type": "code",
      "source": [
        "#Question 2: Write a Python program that checks if a given string contains the letter 'a'. If it does, print \"String contains 'a'\"\n",
        "str1=input(\"enter a string: \")\n",
        "if 'a' in str1:\n",
        "  print(\"exist\")\n",
        "else:\n",
        "  print(\"not exist\")"
      ],
      "metadata": {
        "colab": {
          "base_uri": "https://localhost:8080/"
        },
        "id": "x32vNzBXWXF-",
        "outputId": "d968c45e-8afd-4152-e616-4ca157795b70"
      },
      "execution_count": 4,
      "outputs": [
        {
          "output_type": "stream",
          "name": "stdout",
          "text": [
            "enter a string: kyyy\n",
            "not exist\n"
          ]
        }
      ]
    },
    {
      "cell_type": "code",
      "source": [
        "#3: Write a Python program that checks if a given year is a leap year. If it is, print \"Leap year\".\n",
        "yer = int(input(\"Enter year: \"))\n",
        "if yer % 400 == 0 or (yer % 4 == 0 and yer % 100 != 0):\n",
        "  print(yer,\" is leap year\")\n",
        "else:\n",
        "  print(yer,\" is not leap year\")"
      ],
      "metadata": {
        "id": "ywfqi65JWXNX",
        "colab": {
          "base_uri": "https://localhost:8080/"
        },
        "outputId": "465f1331-5ffa-4b61-9b80-cb4ecefce24f"
      },
      "execution_count": 5,
      "outputs": [
        {
          "output_type": "stream",
          "name": "stdout",
          "text": [
            "Enter year: 2022\n",
            "2022  is not leap year\n"
          ]
        }
      ]
    },
    {
      "cell_type": "code",
      "source": [
        "# 4: Write a Python program that checks if a given number is positive. If it is, print \"Positive number\"\n",
        "num = int(input(\"Enter a number: \"))\n",
        "if num >0:\n",
        "  print(\"positive\")\n",
        "else:\n",
        "  print(\"negative\")"
      ],
      "metadata": {
        "colab": {
          "base_uri": "https://localhost:8080/"
        },
        "id": "vedeMksk2zBC",
        "outputId": "6b159ea0-5380-49db-af12-6cbc8197db46"
      },
      "execution_count": 6,
      "outputs": [
        {
          "output_type": "stream",
          "name": "stdout",
          "text": [
            "Enter a number: -5\n",
            "negative\n"
          ]
        }
      ]
    },
    {
      "cell_type": "code",
      "source": [
        "#5: Write a Python program that checks if a given character is a vowel. If it is, print \"Vowel\".\n",
        "ch=input(\"enter a character: \")\n",
        "vowels=['a','i','o','u','e']\n",
        "if ch in vowels:\n",
        "  print(\"vowel\")\n",
        "else:\n",
        "  print(\"not a vowel\")"
      ],
      "metadata": {
        "colab": {
          "base_uri": "https://localhost:8080/"
        },
        "id": "X1tMK4RjWXQv",
        "outputId": "b23ea9e3-1699-4dc6-d12b-810a82dce699"
      },
      "execution_count": null,
      "outputs": [
        {
          "output_type": "stream",
          "name": "stdout",
          "text": [
            "enter a character: a\n",
            "vowel\n"
          ]
        }
      ]
    },
    {
      "cell_type": "code",
      "source": [
        "#6: Write a Python program that checks if a given number is greater than 100. If it is, print \"Greater than 100\".\n",
        "n = int(input(\"Enter a number: \"))\n",
        "if n >100:\n",
        "  print(\"Number is greater than 100\")\n",
        "else:\n",
        "  print(\"Number is not greater than 100\")"
      ],
      "metadata": {
        "colab": {
          "base_uri": "https://localhost:8080/"
        },
        "id": "vEODk2CT3Kpf",
        "outputId": "1b887ed7-d0f0-47dd-b312-a7289bcdec45"
      },
      "execution_count": 7,
      "outputs": [
        {
          "output_type": "stream",
          "name": "stdout",
          "text": [
            "Enter a number: 108\n",
            "Number is greater than 100\n"
          ]
        }
      ]
    },
    {
      "cell_type": "code",
      "source": [
        "#7Write a Python program that checks if a given string is empty. If it is, print \"Empty string\".\n",
        "st=input(\"enter a string: \")\n",
        "if len(st)==0:\n",
        "  print(\"empty string\")\n",
        "else:\n",
        "  print(\"not empty\")"
      ],
      "metadata": {
        "colab": {
          "base_uri": "https://localhost:8080/"
        },
        "id": "gcooFlJvWXUI",
        "outputId": "a4143664-0820-44e0-d234-ff3278509ba1"
      },
      "execution_count": 9,
      "outputs": [
        {
          "output_type": "stream",
          "name": "stdout",
          "text": [
            "enter a string: kbc\n",
            "not empty\n"
          ]
        }
      ]
    },
    {
      "cell_type": "code",
      "source": [
        "#8: Write a Python program that checks if a given number is divisible by both 5 and 7. If it is, print \"Divisible by 5 and 7\".\n",
        "num =int(input(\"enter a number: \"))\n",
        "if num%5==0 and num%7==0:\n",
        "  print(num,\"is divisible\")\n",
        "else:\n",
        "  print(num,\"is not divisible\")"
      ],
      "metadata": {
        "colab": {
          "base_uri": "https://localhost:8080/"
        },
        "id": "f5EdbIYAWXYd",
        "outputId": "928653e0-1b47-48db-af63-0e0dfbdaaf37"
      },
      "execution_count": 10,
      "outputs": [
        {
          "output_type": "stream",
          "name": "stdout",
          "text": [
            "enter a number: 56\n",
            "56 is not divisible\n"
          ]
        }
      ]
    },
    {
      "cell_type": "code",
      "source": [
        "#9: Write a Python program that checks if a given list contains any negative numbers. If it does, print \"List contains negative numbers\"\n",
        "mylist=[1,-2,4,5,-7]\n",
        "for i in mylist:\n",
        "  if i<0:\n",
        "    print(i,\"negative\")\n",
        "  else:\n",
        "    print(i,\"positive\")\n",
        "\n"
      ],
      "metadata": {
        "colab": {
          "base_uri": "https://localhost:8080/"
        },
        "id": "Z7anUfTEWXat",
        "outputId": "c8e9d469-50ed-4490-ee2c-c07854bc18e8"
      },
      "execution_count": null,
      "outputs": [
        {
          "output_type": "stream",
          "name": "stdout",
          "text": [
            "1 positive\n",
            "-2 negative\n",
            "4 positive\n",
            "5 positive\n",
            "-7 negative\n"
          ]
        }
      ]
    },
    {
      "cell_type": "code",
      "source": [
        "#10: Write a Python program that checks if a given word is a palindrome. If it is, print \"Palindrome\".\n",
        "nm=\"rararar\"\n",
        "if nm[:]==nm[::-1]:\n",
        "  print(\"palindrome\")\n",
        "else:\n",
        "  print(\"not palindrome\")"
      ],
      "metadata": {
        "colab": {
          "base_uri": "https://localhost:8080/"
        },
        "id": "qd-MyQyrWXeK",
        "outputId": "d92f1e90-535c-4a1e-81f8-068ac85421e8"
      },
      "execution_count": null,
      "outputs": [
        {
          "output_type": "stream",
          "name": "stdout",
          "text": [
            "palindrome\n"
          ]
        }
      ]
    },
    {
      "cell_type": "code",
      "source": [
        "#10: Write a Python program that checks if a given character is an uppercase letter. If it is, print \"Uppercase\"; otherwise, print \"Lowercase\".\n",
        "ch = input(\"Enter a Character : \")\n",
        "\n",
        "if(ch.isupper()):\n",
        "    print(ch, \"is an Uppercase\")\n",
        "else:\n",
        "    print(ch, \"is a Lowercase\")"
      ],
      "metadata": {
        "colab": {
          "base_uri": "https://localhost:8080/"
        },
        "id": "SDZIraenhk87",
        "outputId": "25eb954a-e3a2-427a-9158-d12e7b09165a"
      },
      "execution_count": 13,
      "outputs": [
        {
          "output_type": "stream",
          "name": "stdout",
          "text": [
            "Enter a Character : S\n",
            "S is an Uppercase\n"
          ]
        }
      ]
    },
    {
      "cell_type": "markdown",
      "source": [
        "if-elif-else statements:\n"
      ],
      "metadata": {
        "id": "AMehYtr35bCj"
      }
    },
    {
      "cell_type": "code",
      "source": [
        "#1: Write a Python program that checks if a given number is positive, negative, or zero. Print the corresponding message.\n",
        "num = int(input(\"Enter a number: \"))\n",
        "if num > 0:\n",
        "  print(num,\" is positive\")\n",
        "elif num < 0:\n",
        "  print(num,\" is negative\")\n",
        "else:\n",
        "  print(num,\" is zero\")"
      ],
      "metadata": {
        "colab": {
          "base_uri": "https://localhost:8080/"
        },
        "id": "RQvzaiU1bYDM",
        "outputId": "a8c8d287-dfc1-4d06-ad88-09abce67a4f3"
      },
      "execution_count": 1,
      "outputs": [
        {
          "output_type": "stream",
          "name": "stdout",
          "text": [
            "Enter a number: 0\n",
            "0  is zero\n"
          ]
        }
      ]
    },
    {
      "cell_type": "code",
      "source": [
        "#2: Write a Python program that compares two numbers and prints the larger number.\n",
        "a = int(input(\"Enter a number1: \"))\n",
        "b = int(input(\"Enter a number2: \"))\n",
        "if a > b:\n",
        "  print(a,\" is larger\")\n",
        "elif b > a:\n",
        "  print(b,\" is larger\")\n",
        "else:\n",
        "  print(a,\" is equal to \",b)"
      ],
      "metadata": {
        "colab": {
          "base_uri": "https://localhost:8080/"
        },
        "id": "aHM4oihRbYRq",
        "outputId": "3a387d85-fdf6-43a4-abcb-22adaa8be84e"
      },
      "execution_count": 2,
      "outputs": [
        {
          "output_type": "stream",
          "name": "stdout",
          "text": [
            "Enter a number1: 7\n",
            "Enter a number2: 9\n",
            "9  is larger\n"
          ]
        }
      ]
    },
    {
      "cell_type": "code",
      "source": [
        "#3: Write a Python program that determines whether a given temperature is hot, warm, or cold. Print the corresponding message.\n",
        "temp = int(input(\"Enter a temperature: \"))\n",
        "if temp >= 35:\n",
        "  print(\"Temperature is hot\")\n",
        "elif temp >= 25 and temp < 35:\n",
        "  print(\"Temperature is warm\")\n",
        "else:\n",
        "  print(\"Temperature is cold\")"
      ],
      "metadata": {
        "colab": {
          "base_uri": "https://localhost:8080/"
        },
        "id": "_OmvPUMvbYh2",
        "outputId": "a9dc013f-b42a-4eaf-e799-010ed87fc90a"
      },
      "execution_count": 3,
      "outputs": [
        {
          "output_type": "stream",
          "name": "stdout",
          "text": [
            "Enter a temperature: 45\n",
            "Temperature is hot\n"
          ]
        }
      ]
    },
    {
      "cell_type": "code",
      "source": [
        "#4: Write a Python program that checks if a given year is a leap year, a century year, or neither. Print the corresponding message.\n",
        "yer = int(input(\"Enter year: \"))\n",
        "if yer % 400 == 0 or (yer % 4 == 0 and yer % 100 == 0):\n",
        "  print(yer,\" is century leap year\")\n",
        "elif yer % 400 == 0 or (yer % 4 == 0 and yer % 100 != 0):\n",
        "  print(yer,\" is leap year\")\n",
        "else:\n",
        "  print(yer,\" is not leap year\")"
      ],
      "metadata": {
        "colab": {
          "base_uri": "https://localhost:8080/"
        },
        "id": "pKy8UTqWbY8w",
        "outputId": "157dbb9a-7972-47fb-ae7b-7be576fe4b1c"
      },
      "execution_count": 4,
      "outputs": [
        {
          "output_type": "stream",
          "name": "stdout",
          "text": [
            "Enter year: 2025\n",
            "2025  is not leap year\n"
          ]
        }
      ]
    },
    {
      "cell_type": "code",
      "source": [
        "#5: Write a Python program that categorizes a given character into uppercase letter, lowercase letter, digit, or special character. Print the corresponding message.\n",
        "ch=input(\"enter a character: \")\n",
        "if ch.isupper():\n",
        "  print(\"Uppercase Letter \")\n",
        "elif ch.islower():\n",
        "  print( \"Lowercase Letter \")\n",
        "elif ch.isdigit():\n",
        "  print( \"Digit\")\n",
        "else:\n",
        "  print( \"Special Character\")"
      ],
      "metadata": {
        "colab": {
          "base_uri": "https://localhost:8080/"
        },
        "id": "zjjPZ6vdiXaj",
        "outputId": "ac60a68e-6f25-454c-d735-ccee1f9066e7"
      },
      "execution_count": 5,
      "outputs": [
        {
          "output_type": "stream",
          "name": "stdout",
          "text": [
            "enter a character: #\n",
            "Special Character\n"
          ]
        }
      ]
    },
    {
      "cell_type": "code",
      "source": [
        "#6: Write a Python program that calculates the discount percentage based on the purchase amount. Print the corresponding discount percentage.\n",
        "price = int(input(\"enter the price\"))\n",
        "if price >= 1000:\n",
        "  print('Final_price=',price-(price*20/100))\n",
        "elif price>=500:\n",
        "  print('Final_price=',price-(price*10/100))\n",
        "else:\n",
        "  print('Final_price=',price-(price*5/100))"
      ],
      "metadata": {
        "colab": {
          "base_uri": "https://localhost:8080/"
        },
        "id": "l3pMKy_EiXlk",
        "outputId": "4c724245-cef0-4a58-b957-6315b41700dd"
      },
      "execution_count": null,
      "outputs": [
        {
          "output_type": "stream",
          "name": "stdout",
          "text": [
            "enter the price1500\n",
            "Final_price= 1200.0\n"
          ]
        }
      ]
    },
    {
      "cell_type": "code",
      "source": [
        "#7: Write a Python program that checks if a given number is divisible by 2, 3, 5, or none of them. Print the corresponding message.\n",
        "num = int(input(\"Enter a number: \"))\n",
        "if num % 2 ==0:\n",
        "  print(num,\"Divisible by 2\")\n",
        "elif num % 3 ==0:\n",
        "  print(num,\"Divisible by 3\")\n",
        "elif num % 5 ==0:\n",
        "  print(num,\"Divisible by 5\")\n",
        "else:\n",
        "  print(num,\"Not divisible by 2,3 or 5\")"
      ],
      "metadata": {
        "colab": {
          "base_uri": "https://localhost:8080/"
        },
        "id": "iqnqff2adbZE",
        "outputId": "9c66c400-1340-404c-82fc-abaeb88b345e"
      },
      "execution_count": 6,
      "outputs": [
        {
          "output_type": "stream",
          "name": "stdout",
          "text": [
            "Enter a number: 45\n",
            "45 Divisible by 3\n"
          ]
        }
      ]
    },
    {
      "cell_type": "code",
      "source": [
        "#8: Write a Python program that determines the grade based on the percentage obtained. Print the corresponding grade.\n",
        "grades = int(input(\"Enter grader: \"))\n",
        "if grades >= 90:\n",
        "  print(\"Grade A+\")\n",
        "elif grades >= 80:\n",
        "  print(\"Grade A\")\n",
        "elif grades >= 70:\n",
        "  print(\"Grade B+\")\n",
        "elif grades >= 60:\n",
        "  print(\"Grade B\")\n",
        "elif grades >= 50:\n",
        "  print(\"Grade C+\")\n",
        "elif grades >= 35:\n",
        "  print(\"Grade C\")\n",
        "else:\n",
        "  print(\"Fail\")"
      ],
      "metadata": {
        "colab": {
          "base_uri": "https://localhost:8080/"
        },
        "id": "AX0Bu78wddbQ",
        "outputId": "e7e3d53b-ca13-4c24-e088-f709f8e1dd41"
      },
      "execution_count": 7,
      "outputs": [
        {
          "output_type": "stream",
          "name": "stdout",
          "text": [
            "Enter grader: 85\n",
            "Grade A\n"
          ]
        }
      ]
    },
    {
      "cell_type": "code",
      "source": [
        "#9: Write a Python program that checks if a given number is within a specific range. Print the corresponding message.\n",
        "num= int(input(\"enter a number: \"))\n",
        "if num>=90:\n",
        "  print(\"greater than 90\")\n",
        "elif num>80:\n",
        "  print(\"range 81-91\")\n",
        "elif num>70:\n",
        "  print('range 71-80')\n",
        "else:\n",
        "  print(\"less than 70\")\n"
      ],
      "metadata": {
        "colab": {
          "base_uri": "https://localhost:8080/"
        },
        "id": "z0w_iUvxiXzY",
        "outputId": "b52ab2aa-033f-43fa-d5ff-00f4b453eacd"
      },
      "execution_count": null,
      "outputs": [
        {
          "output_type": "stream",
          "name": "stdout",
          "text": [
            "enter a number76\n",
            "range 71-80\n"
          ]
        }
      ]
    },
    {
      "cell_type": "code",
      "source": [
        "#10: Write a Python program that checks if a given string is an English word, a number, or a combination of both. Print the corresponding message\n",
        "str1= input(\"enter a string: \")\n",
        "if str1.isalpha():\n",
        "  print(\"The given string is an English word.\")\n",
        "elif str1.isdigit():\n",
        "  print(\"The given string is a number.\")\n",
        "elif str1.isalnum():\n",
        "  print(\"The given string is a combination of letters and numbers.\")\n",
        "else:\n",
        "  print(\"The given string is neither an English word nor a number.\")\n"
      ],
      "metadata": {
        "colab": {
          "base_uri": "https://localhost:8080/"
        },
        "id": "reKXm3OPiYNO",
        "outputId": "c25937d0-7745-4858-e7bc-15c93787ad50"
      },
      "execution_count": null,
      "outputs": [
        {
          "output_type": "stream",
          "name": "stdout",
          "text": [
            "enter a string: /3_\n",
            "The given string is neither an English word nor a number.\n"
          ]
        }
      ]
    }
  ]
}