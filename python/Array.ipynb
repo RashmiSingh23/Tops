{
  "nbformat": 4,
  "nbformat_minor": 0,
  "metadata": {
    "colab": {
      "provenance": []
    },
    "kernelspec": {
      "name": "python3",
      "display_name": "Python 3"
    },
    "language_info": {
      "name": "python"
    }
  },
  "cells": [
    {
      "cell_type": "code",
      "execution_count": null,
      "metadata": {
        "colab": {
          "base_uri": "https://localhost:8080/"
        },
        "id": "8awHxHV-kD1k",
        "outputId": "d0c0c106-8994-4913-8d6f-4b375a6799da"
      },
      "outputs": [
        {
          "output_type": "execute_result",
          "data": {
            "text/plain": [
              "array([0., 0., 0., 0., 0.])"
            ]
          },
          "metadata": {},
          "execution_count": 2
        }
      ],
      "source": [
        "#1: Create a NumPy array with 5 elements initialized with zeros.\n",
        "import numpy as np\n",
        "arr=np.zeros(5)\n",
        "arr"
      ]
    },
    {
      "cell_type": "code",
      "source": [
        "#2: Create a NumPy array with 3 rows and 4 columns initialized with ones.\n",
        "arr1=np.zeros([3,4])\n",
        "arr1"
      ],
      "metadata": {
        "colab": {
          "base_uri": "https://localhost:8080/"
        },
        "id": "VRMx7sVgkxGQ",
        "outputId": "614a4480-8029-462b-c5dd-3fcb108e647a"
      },
      "execution_count": null,
      "outputs": [
        {
          "output_type": "execute_result",
          "data": {
            "text/plain": [
              "array([[0., 0., 0., 0.],\n",
              "       [0., 0., 0., 0.],\n",
              "       [0., 0., 0., 0.]])"
            ]
          },
          "metadata": {},
          "execution_count": 4
        }
      ]
    },
    {
      "cell_type": "code",
      "source": [
        "#3: Create a 1D NumPy array containing numbers from 1 to 10.\n",
        "arr2=np.arange(1,10)\n",
        "arr2"
      ],
      "metadata": {
        "colab": {
          "base_uri": "https://localhost:8080/"
        },
        "id": "566LVYWHkxXF",
        "outputId": "2b0a3aaa-da84-4489-c4e2-0ab2163adaa7"
      },
      "execution_count": null,
      "outputs": [
        {
          "output_type": "execute_result",
          "data": {
            "text/plain": [
              "array([1, 2, 3, 4, 5, 6, 7, 8, 9])"
            ]
          },
          "metadata": {},
          "execution_count": 11
        }
      ]
    },
    {
      "cell_type": "code",
      "source": [
        "#4: Create a 2D NumPy array with dimensions 3x3 containing numbers from 1 to 9.\n",
        "arr3=np.random.randint(1,10,size=(3,3))\n",
        "arr3"
      ],
      "metadata": {
        "colab": {
          "base_uri": "https://localhost:8080/"
        },
        "id": "m5sAIRnRlORy",
        "outputId": "a05c2410-4fc7-4313-b700-f150e39aa5db"
      },
      "execution_count": null,
      "outputs": [
        {
          "output_type": "execute_result",
          "data": {
            "text/plain": [
              "array([[7, 5, 6],\n",
              "       [9, 1, 4],\n",
              "       [6, 2, 3]])"
            ]
          },
          "metadata": {},
          "execution_count": 7
        }
      ]
    },
    {
      "cell_type": "code",
      "source": [
        "#5: Create a 3D NumPy array with dimensions 2x3x4 containing random integers between 0 and 9.\n",
        "arr4=np.random.randint(0,10,size=(2,3,4))\n",
        "arr4"
      ],
      "metadata": {
        "colab": {
          "base_uri": "https://localhost:8080/"
        },
        "id": "_mC6OBVPlsQa",
        "outputId": "1add7a7d-1282-47fb-9609-bd1213dab3d6"
      },
      "execution_count": null,
      "outputs": [
        {
          "output_type": "execute_result",
          "data": {
            "text/plain": [
              "array([[[5, 0, 4, 5],\n",
              "        [6, 8, 2, 8],\n",
              "        [9, 8, 2, 5]],\n",
              "\n",
              "       [[1, 5, 2, 3],\n",
              "        [0, 3, 2, 6],\n",
              "        [1, 7, 2, 0]]])"
            ]
          },
          "metadata": {},
          "execution_count": 8
        }
      ]
    },
    {
      "cell_type": "code",
      "source": [
        "#6: Create a NumPy array from a list containing elements [1, 2, 3, 4, 5].\n",
        "arr5=np.arange(1,6)\n",
        "arr5"
      ],
      "metadata": {
        "colab": {
          "base_uri": "https://localhost:8080/"
        },
        "id": "m81sNNrPl4r1",
        "outputId": "78babd74-514b-4854-fa49-01796cb71777"
      },
      "execution_count": null,
      "outputs": [
        {
          "output_type": "execute_result",
          "data": {
            "text/plain": [
              "array([1, 2, 3, 4, 5])"
            ]
          },
          "metadata": {},
          "execution_count": 10
        }
      ]
    },
    {
      "cell_type": "code",
      "source": [
        "#7: Convert a tuple (6, 7, 8, 9, 10) into a NumPy array.\n",
        "a=(6,7,8,9,10)\n",
        "b=np.array(a)\n",
        "b"
      ],
      "metadata": {
        "colab": {
          "base_uri": "https://localhost:8080/"
        },
        "id": "U3nuvQ8jmmy2",
        "outputId": "1d6c9ce9-b072-4142-ca62-1995cd2db44c"
      },
      "execution_count": null,
      "outputs": [
        {
          "output_type": "execute_result",
          "data": {
            "text/plain": [
              "array([ 6,  7,  8,  9, 10])"
            ]
          },
          "metadata": {},
          "execution_count": 13
        }
      ]
    },
    {
      "cell_type": "code",
      "source": [
        "#8: Create a NumPy array with shape (4, 2) containing numbers from 0 to 7.\n",
        "arr6=np.random.randint(0,7,size=(4,2))\n",
        "print(arr6)\n",
        "print(arr6.shape)"
      ],
      "metadata": {
        "colab": {
          "base_uri": "https://localhost:8080/"
        },
        "id": "bm6VQRG3mHAR",
        "outputId": "e2e38a4f-5be1-4517-e550-b0b52b739144"
      },
      "execution_count": null,
      "outputs": [
        {
          "output_type": "stream",
          "name": "stdout",
          "text": [
            "(4, 2)\n"
          ]
        }
      ]
    },
    {
      "cell_type": "code",
      "source": [
        "#9: Create a 3D NumPy array with shape (2, 3, 4) initialized with zeros.\n",
        "arr7=np.zeros([2,3,4])\n",
        "arr7"
      ],
      "metadata": {
        "colab": {
          "base_uri": "https://localhost:8080/"
        },
        "id": "FFtx-CEOnJrO",
        "outputId": "b1bfe316-25d5-4775-f3a3-3a98baf98551"
      },
      "execution_count": null,
      "outputs": [
        {
          "output_type": "execute_result",
          "data": {
            "text/plain": [
              "array([[[0., 0., 0., 0.],\n",
              "        [0., 0., 0., 0.],\n",
              "        [0., 0., 0., 0.]],\n",
              "\n",
              "       [[0., 0., 0., 0.],\n",
              "        [0., 0., 0., 0.],\n",
              "        [0., 0., 0., 0.]]])"
            ]
          },
          "metadata": {},
          "execution_count": 14
        }
      ]
    },
    {
      "cell_type": "code",
      "source": [
        "#10: Create a 2D NumPy array with shape (3, 3) containing random floating-point numbers between 0 and 1.\n",
        "arr8=np.random.random([3,3])\n",
        "arr8"
      ],
      "metadata": {
        "colab": {
          "base_uri": "https://localhost:8080/"
        },
        "id": "pgBHxF7qnROw",
        "outputId": "681d2724-d900-48c0-b836-3f6bb801fdcc"
      },
      "execution_count": null,
      "outputs": [
        {
          "output_type": "execute_result",
          "data": {
            "text/plain": [
              "array([[0.29008793, 0.23710846, 0.28807558],\n",
              "       [0.86609317, 0.06380158, 0.53309   ],\n",
              "       [0.72251559, 0.5689852 , 0.271591  ]])"
            ]
          },
          "metadata": {},
          "execution_count": 18
        }
      ]
    },
    {
      "cell_type": "code",
      "source": [
        "#11: Create a NumPy array with shape (5,) containing numbers from 10 to 35, incrementing by 5.\n",
        "arr9=np.arange(10,35,5)\n",
        "arr9"
      ],
      "metadata": {
        "colab": {
          "base_uri": "https://localhost:8080/"
        },
        "id": "39WcpeHgnRTH",
        "outputId": "db0e88ac-f111-42d0-b1cc-6ed37ee52746"
      },
      "execution_count": null,
      "outputs": [
        {
          "output_type": "execute_result",
          "data": {
            "text/plain": [
              "array([10, 15, 20, 25, 30])"
            ]
          },
          "metadata": {},
          "execution_count": 24
        }
      ]
    },
    {
      "cell_type": "code",
      "source": [
        "#12: Create a NumPy array with shape (2, 5) containing numbers from -2 to 7\n",
        "arr10=np.random.randint(-2,7,size=(2,5))\n",
        "arr10"
      ],
      "metadata": {
        "colab": {
          "base_uri": "https://localhost:8080/"
        },
        "id": "DRdT8wntnRWl",
        "outputId": "aa9dbd9f-11ea-4ad6-cafa-8affea09e203"
      },
      "execution_count": null,
      "outputs": [
        {
          "output_type": "execute_result",
          "data": {
            "text/plain": [
              "array([[ 2,  5,  2,  3, -2],\n",
              "       [ 6, -1, -2, -2,  2]])"
            ]
          },
          "metadata": {},
          "execution_count": 19
        }
      ]
    },
    {
      "cell_type": "code",
      "source": [
        "#13: Create a 1D NumPy array with shape (10,) containing numbers from 100 to 109, and change its data type to float.\n",
        "arr11=np.arange(100,110)\n",
        "print(arr11)\n",
        "new_arr=arr11.astype('float64')\n",
        "print(new_arr)"
      ],
      "metadata": {
        "colab": {
          "base_uri": "https://localhost:8080/"
        },
        "id": "TpzwtSg3nfeW",
        "outputId": "ac10ebf6-9459-42c1-f107-b568b5d72353"
      },
      "execution_count": null,
      "outputs": [
        {
          "output_type": "stream",
          "name": "stdout",
          "text": [
            "[100 101 102 103 104 105 106 107 108 109]\n",
            "[100. 101. 102. 103. 104. 105. 106. 107. 108. 109.]\n"
          ]
        }
      ]
    },
    {
      "cell_type": "code",
      "source": [
        "#14: Create a 2D NumPy array with shape (3, 4) initialized with ones, and then change its data type to int.\n",
        "arr12=np.ones([3,4],dtype=int)\n",
        "print(arr12)\n"
      ],
      "metadata": {
        "colab": {
          "base_uri": "https://localhost:8080/"
        },
        "id": "x6JwZQy0nfpy",
        "outputId": "8a4ae886-9ffc-4ce5-b1c5-b12153f23fbf"
      },
      "execution_count": null,
      "outputs": [
        {
          "output_type": "stream",
          "name": "stdout",
          "text": [
            "[[1 1 1 1]\n",
            " [1 1 1 1]\n",
            " [1 1 1 1]]\n"
          ]
        }
      ]
    },
    {
      "cell_type": "code",
      "source": [
        "#15: Create a 3D NumPy array with shape (2, 2, 3) initialized with specified numbers [[1, 2, 3], [4, 5, 6]], and [[7, 8, 9], [10, 11, 12]].\n",
        "arr13=np.array([[[1, 2, 3], [4, 5, 6]],\n",
        "           [[7, 8, 9], [10, 11, 12]]])\n",
        "arr13\n"
      ],
      "metadata": {
        "colab": {
          "base_uri": "https://localhost:8080/"
        },
        "id": "-9uMwg2OnlgO",
        "outputId": "3efdc44a-01a8-4761-b6ce-777711b5d253"
      },
      "execution_count": null,
      "outputs": [
        {
          "output_type": "execute_result",
          "data": {
            "text/plain": [
              "array([[[ 1,  2,  3],\n",
              "        [ 4,  5,  6]],\n",
              "\n",
              "       [[ 7,  8,  9],\n",
              "        [10, 11, 12]]])"
            ]
          },
          "metadata": {},
          "execution_count": 38
        }
      ]
    }
  ]
}