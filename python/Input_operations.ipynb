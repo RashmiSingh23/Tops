{
  "nbformat": 4,
  "nbformat_minor": 0,
  "metadata": {
    "colab": {
      "provenance": []
    },
    "kernelspec": {
      "name": "python3",
      "display_name": "Python 3"
    },
    "language_info": {
      "name": "python"
    }
  },
  "cells": [
    {
      "cell_type": "code",
      "source": [
        "#Write a Python program to take two numbers as input from the user and display their sum.\n",
        "a=int(input(\"enter the value of a=\"))\n",
        "b=int(input(\"enter the value of b=\"))\n",
        "print(\"addition of two numbers:\",a+b)"
      ],
      "metadata": {
        "colab": {
          "base_uri": "https://localhost:8080/"
        },
        "id": "0mZoBMLHjK9L",
        "outputId": "4937f178-8f53-4104-a3ad-7bf725fc4656"
      },
      "execution_count": null,
      "outputs": [
        {
          "output_type": "stream",
          "name": "stdout",
          "text": [
            "enter the value of a=10\n",
            "enter the value of b=42\n",
            "addition of two numbers: 52\n"
          ]
        }
      ]
    },
    {
      "cell_type": "code",
      "source": [
        "# Calculate and print the midpoint of two numbers entered by the user.\n",
        "a=int(input(\"enter the value of a=\"))\n",
        "b=int(input(\"enter the value of b=\"))\n",
        "print(\"Midpoint of two numbers:\",(a+b)/2)"
      ],
      "metadata": {
        "colab": {
          "base_uri": "https://localhost:8080/"
        },
        "id": "9A1PJeBLkFNM",
        "outputId": "ac8e2b6a-30ce-4ef1-d5c7-d29e742d78e3"
      },
      "execution_count": null,
      "outputs": [
        {
          "output_type": "stream",
          "name": "stdout",
          "text": [
            "enter the value of a=10\n",
            "enter the value of b=40\n",
            "Midpoint of two numbers: 25.0\n"
          ]
        }
      ]
    },
    {
      "cell_type": "code",
      "source": [
        "#Write a Python program to calculate the area of a triangle using the formula: area = 0.5 * base * height.\n",
        "base=int(input(\"enter base value\"))\n",
        "height=int(input(\"enter height value\"))\n",
        "Area=0.5*base*height\n",
        "print(\"Area of a triangle \",Area)\n"
      ],
      "metadata": {
        "colab": {
          "base_uri": "https://localhost:8080/"
        },
        "id": "9KKLs0Dmk63x",
        "outputId": "3ef0f1c3-e906-4822-c786-89bfad3a1d01"
      },
      "execution_count": null,
      "outputs": [
        {
          "output_type": "stream",
          "name": "stdout",
          "text": [
            "enter base value5\n",
            "enter height value16\n",
            "Area of a triangle  40.0\n"
          ]
        }
      ]
    },
    {
      "cell_type": "code",
      "source": [
        "#Take three numbers as input from the user and display their product\n",
        "a=int(input(\"enter the value of a=\"))\n",
        "b=int(input(\"enter the value of b=\"))\n",
        "c=int(input(\"enter the value of c=\"))\n",
        "print(\"product=\",a*b*c)"
      ],
      "metadata": {
        "colab": {
          "base_uri": "https://localhost:8080/"
        },
        "id": "u8GaSXBJl78d",
        "outputId": "d94766df-f820-463b-fb7e-bf320c12b496"
      },
      "execution_count": null,
      "outputs": [
        {
          "output_type": "stream",
          "name": "stdout",
          "text": [
            "enter the value of a=2\n",
            "enter the value of b=6\n",
            "enter the value of c=10\n",
            "product= 120\n"
          ]
        }
      ]
    },
    {
      "cell_type": "code",
      "source": [
        "# Take a number as input and display its square and cube.\n",
        "a=int(input(\"enter the value of a=\"))\n",
        "print(\"Square=\",a**2)\n",
        "print(\"cube=\",a**3)"
      ],
      "metadata": {
        "colab": {
          "base_uri": "https://localhost:8080/"
        },
        "id": "00haCZz2mj2z",
        "outputId": "9db58ff4-2f28-417e-98ac-c5392356b6fa"
      },
      "execution_count": null,
      "outputs": [
        {
          "output_type": "stream",
          "name": "stdout",
          "text": [
            "enter the value of a=8\n",
            "Square= 64\n",
            "cube= 512\n"
          ]
        }
      ]
    },
    {
      "cell_type": "code",
      "source": [
        "#Take two numbers as input and display their quotient and remainder.\n",
        "a=int(input(\"enter the value of a=\"))\n",
        "b=int(input(\"enter the value of b=\"))\n",
        "Q = a//b\n",
        "R = a%b\n",
        "print('Quotient: ', Q)\n",
        "print('Remainder: ', R)"
      ],
      "metadata": {
        "colab": {
          "base_uri": "https://localhost:8080/"
        },
        "id": "LwQrV-4mnVdX",
        "outputId": "1508c4e4-e654-4672-84a3-5368f7b40e87"
      },
      "execution_count": null,
      "outputs": [
        {
          "output_type": "stream",
          "name": "stdout",
          "text": [
            "enter the value of a=9\n",
            "enter the value of b=2\n",
            "Quotient:  4\n",
            "Remainder:  1\n"
          ]
        }
      ]
    },
    {
      "cell_type": "code",
      "source": [
        "#Take three numbers as input and display their average.\n",
        "n1 = int(input(\"Enter the first number: \"))\n",
        "n2 = int(input(\"Enter the second number: \"))\n",
        "n3 = int(input(\"Enter the third number: \"))\n",
        "average = (n1 + n2 + n3) / 3\n",
        "print(\"The average of the three numbers: \", average)"
      ],
      "metadata": {
        "colab": {
          "base_uri": "https://localhost:8080/"
        },
        "id": "5fxWmgM1oOFw",
        "outputId": "48f5ecfe-1cfa-4ff1-d796-529e2d15c0c1"
      },
      "execution_count": null,
      "outputs": [
        {
          "output_type": "stream",
          "name": "stdout",
          "text": [
            "Enter the first number: 5\n",
            "Enter the second number: 6\n",
            "Enter the third number: 10\n",
            "The average of the three numbers:  7.0\n"
          ]
        }
      ]
    },
    {
      "cell_type": "code",
      "source": [
        "# Write a Python program to calculate the area of a rectangle using the formula: area = length * width.\n",
        "L=int(input(\"enter the lenth\"))\n",
        "W=int(input(\"enter the width\"))\n",
        "print(\"Area of a rectangle=\",L*W)\n"
      ],
      "metadata": {
        "colab": {
          "base_uri": "https://localhost:8080/"
        },
        "id": "SKOh_ZMfpSdl",
        "outputId": "d74213e1-3de3-4024-8293-b8bbf72e72b7"
      },
      "execution_count": null,
      "outputs": [
        {
          "output_type": "stream",
          "name": "stdout",
          "text": [
            "enter the lenth13\n",
            "enter the width5\n",
            "Area of a rectangle= 65\n"
          ]
        }
      ]
    },
    {
      "cell_type": "code",
      "source": [
        "#Take five numbers as input representing marks obtained and total marks. Display the percentage.\n",
        "n1 = int(input(\" n1: \"))\n",
        "n2 = int(input(\" n2: \"))\n",
        "n3 = int(input(\" n3: \"))\n",
        "n4 = int(input(\" n4: \"))\n",
        "n5 = int(input(\" n5: \"))\n",
        "total = n1+n2+n3+n4+n5\n",
        "percentage = (total / 500) * 100\n",
        "print(\"Total marks=\",total)\n",
        "print(\"Percentage=\",percentage)"
      ],
      "metadata": {
        "colab": {
          "base_uri": "https://localhost:8080/"
        },
        "id": "aEf3EF-iqC5m",
        "outputId": "5c3946c8-6d27-421b-d070-4a357f4cb319"
      },
      "execution_count": null,
      "outputs": [
        {
          "output_type": "stream",
          "name": "stdout",
          "text": [
            " n1: 45\n",
            " n2: 63\n",
            " n3: 89\n",
            " n4: 74\n",
            " n5: 29\n",
            "Total marks= 300\n",
            "Percentage= 60.0\n"
          ]
        }
      ]
    }
  ]
}