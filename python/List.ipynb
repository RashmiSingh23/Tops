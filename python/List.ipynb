{
  "nbformat": 4,
  "nbformat_minor": 0,
  "metadata": {
    "colab": {
      "provenance": []
    },
    "kernelspec": {
      "name": "python3",
      "display_name": "Python 3"
    },
    "language_info": {
      "name": "python"
    }
  },
  "cells": [
    {
      "cell_type": "code",
      "execution_count": null,
      "metadata": {
        "colab": {
          "base_uri": "https://localhost:8080/"
        },
        "id": "0kfAkg_4k1gQ",
        "outputId": "78edc6fb-2fea-46c2-d9c3-983d04df3fc6"
      },
      "outputs": [
        {
          "output_type": "stream",
          "name": "stdout",
          "text": [
            "57\n"
          ]
        }
      ],
      "source": [
        "#1.\tWrite a Python program to sum all the elements in a list.\n",
        "my_list=[2,4,7,8,12,24]\n",
        "print(sum(my_list))"
      ]
    },
    {
      "cell_type": "code",
      "source": [
        "#2.\tWrite a Python program to find the largest element in a list.\n",
        "max(my_list)"
      ],
      "metadata": {
        "colab": {
          "base_uri": "https://localhost:8080/"
        },
        "id": "Ark9katglQk0",
        "outputId": "4102224b-1825-4cf6-de00-ef3557293dfa"
      },
      "execution_count": null,
      "outputs": [
        {
          "output_type": "execute_result",
          "data": {
            "text/plain": [
              "24"
            ]
          },
          "metadata": {},
          "execution_count": 2
        }
      ]
    },
    {
      "cell_type": "code",
      "source": [
        "#3.\tWrite a Python program to count the number of elements in a list.\n",
        "len(my_list)"
      ],
      "metadata": {
        "colab": {
          "base_uri": "https://localhost:8080/"
        },
        "id": "vuzJoWwBlW8_",
        "outputId": "eaccfee0-d1f9-4558-b1e3-2987a4655418"
      },
      "execution_count": null,
      "outputs": [
        {
          "output_type": "execute_result",
          "data": {
            "text/plain": [
              "6"
            ]
          },
          "metadata": {},
          "execution_count": 4
        }
      ]
    },
    {
      "cell_type": "code",
      "source": [
        "#4.\tWrite a Python program to find the average of elements in a list.\n",
        "average=sum(my_list)/len(my_list)\n",
        "print(average)"
      ],
      "metadata": {
        "colab": {
          "base_uri": "https://localhost:8080/"
        },
        "id": "_WioE_pClgJp",
        "outputId": "e0b32a74-7c0d-419d-9c3d-0d8b8e8def3c"
      },
      "execution_count": null,
      "outputs": [
        {
          "output_type": "stream",
          "name": "stdout",
          "text": [
            "9.5\n"
          ]
        }
      ]
    },
    {
      "cell_type": "code",
      "source": [
        "#5.\tWrite a Python program to reverse a list.\n",
        "sorted(my_list,reverse=1)"
      ],
      "metadata": {
        "colab": {
          "base_uri": "https://localhost:8080/"
        },
        "id": "y2L8EErRmH8u",
        "outputId": "29a37040-a902-447d-baa7-2a85e3e98d7b"
      },
      "execution_count": null,
      "outputs": [
        {
          "output_type": "execute_result",
          "data": {
            "text/plain": [
              "[24, 12, 8, 7, 4, 2]"
            ]
          },
          "metadata": {},
          "execution_count": 8
        }
      ]
    },
    {
      "cell_type": "code",
      "source": [
        "#6.\tWrite a Python program to check if a given element exists in a list.\n",
        "a=8\n",
        "if a in my_list:\n",
        "  print(\"true\")\n",
        "else:\n",
        "  print(\"false\")"
      ],
      "metadata": {
        "colab": {
          "base_uri": "https://localhost:8080/"
        },
        "id": "d5RYc5SumX1z",
        "outputId": "b7582bd9-cd5c-4e41-ae9d-1457deab55cb"
      },
      "execution_count": null,
      "outputs": [
        {
          "output_type": "stream",
          "name": "stdout",
          "text": [
            "true\n"
          ]
        }
      ]
    },
    {
      "cell_type": "code",
      "source": [
        "#7.\tWrite a Python program to remove duplicate elements from a list.\n",
        "ml=[2,4,5,3,2,1,1,]\n",
        "unique_list=set(ml)\n",
        "print(unique_list)"
      ],
      "metadata": {
        "colab": {
          "base_uri": "https://localhost:8080/"
        },
        "id": "hOPAwE9gnwvL",
        "outputId": "6cb3e489-67e3-4464-dac1-8e266065d8ad"
      },
      "execution_count": null,
      "outputs": [
        {
          "output_type": "stream",
          "name": "stdout",
          "text": [
            "{1, 2, 3, 4, 5}\n"
          ]
        }
      ]
    },
    {
      "cell_type": "code",
      "source": [
        "#8.\tWrite a Python program to find the second largest element in a list.\n",
        "ml=sorted(ml)\n",
        "print(ml[-2])"
      ],
      "metadata": {
        "colab": {
          "base_uri": "https://localhost:8080/"
        },
        "id": "NXO5S7yHouJm",
        "outputId": "0f21841c-a136-4a39-b14a-b719e2b27939"
      },
      "execution_count": null,
      "outputs": [
        {
          "output_type": "stream",
          "name": "stdout",
          "text": [
            "4\n"
          ]
        }
      ]
    },
    {
      "cell_type": "code",
      "source": [
        "#9.\tWrite a Python program to sort elements in a list in ascending order.\n",
        "sorted(my_list)"
      ],
      "metadata": {
        "colab": {
          "base_uri": "https://localhost:8080/"
        },
        "id": "_dMWuif3pIG1",
        "outputId": "a6f5ca01-e7d3-4a1c-97b5-21c8469ed181"
      },
      "execution_count": null,
      "outputs": [
        {
          "output_type": "execute_result",
          "data": {
            "text/plain": [
              "[2, 4, 7, 8, 12, 24]"
            ]
          },
          "metadata": {},
          "execution_count": 18
        }
      ]
    },
    {
      "cell_type": "code",
      "source": [
        "#10.\tWrite a Python program to merge two lists and sort them.\n",
        "l1=[2,3,4,5]\n",
        "l2=[33,22,44]\n",
        "l1.append(l2)\n",
        "print(l1)"
      ],
      "metadata": {
        "colab": {
          "base_uri": "https://localhost:8080/"
        },
        "id": "aGJleveapUaB",
        "outputId": "472056ef-9f76-4a78-e128-2a05a2a687ee"
      },
      "execution_count": null,
      "outputs": [
        {
          "output_type": "stream",
          "name": "stdout",
          "text": [
            "[2, 3, 4, 5, [33, 22, 44]]\n"
          ]
        }
      ]
    },
    {
      "cell_type": "code",
      "source": [
        "#11.\tQuestion: Given a nested list nested_list_row = [[1, 2, 3], [4, 5, 6], [7, 8, 9]], how can you access the number 9 from the list? Write a Python program to achieve this.\n",
        "nested_list_row = [[1, 2, 3], [4, 5, 6], [7, 8, 9]]\n",
        "nested_list_row[2][2]"
      ],
      "metadata": {
        "colab": {
          "base_uri": "https://localhost:8080/"
        },
        "id": "kgtuM0qlqjE5",
        "outputId": "e39c0389-3add-48e4-c121-7b32d0b90545"
      },
      "execution_count": null,
      "outputs": [
        {
          "output_type": "execute_result",
          "data": {
            "text/plain": [
              "9"
            ]
          },
          "metadata": {},
          "execution_count": 24
        }
      ]
    },
    {
      "cell_type": "code",
      "source": [
        "#12.Suppose you have a nested list nested_list_column = [[1, 2, 3], [4, 5, 6], [7, 8, 9]], how can you access the number 8 from the list? Write a Python program to achieve this\n",
        "nested_list_column = [[1, 2, 3], [4, 5, 6], [7, 8, 9]]\n",
        "nested_list_column[2][1]"
      ],
      "metadata": {
        "colab": {
          "base_uri": "https://localhost:8080/"
        },
        "id": "UQ-88jrTqwsM",
        "outputId": "974119f6-16c6-4e14-b0aa-b1085f9f0a10"
      },
      "execution_count": null,
      "outputs": [
        {
          "output_type": "execute_result",
          "data": {
            "text/plain": [
              "8"
            ]
          },
          "metadata": {},
          "execution_count": 25
        }
      ]
    },
    {
      "cell_type": "code",
      "source": [
        "#13 How can you access the number 100 from the nested list nested_list_column = [[1, 2, 3], [4, 5, 6], [7, 8, 9,[1,55,77,100]]?\n",
        "nested_list_column = [[1, 2, 3], [4, 5, 6], [7, 8, 9,[1,55,77,100]]]\n",
        "nested_list_column[2][3][3]\n"
      ],
      "metadata": {
        "colab": {
          "base_uri": "https://localhost:8080/"
        },
        "id": "7bpMrokgrI6Y",
        "outputId": "a6be5fcb-7b5c-4863-ba58-7c201600f90a"
      },
      "execution_count": null,
      "outputs": [
        {
          "output_type": "execute_result",
          "data": {
            "text/plain": [
              "100"
            ]
          },
          "metadata": {},
          "execution_count": 27
        }
      ]
    },
    {
      "cell_type": "code",
      "source": [
        "#14 How can you access the number 100 from the nested list nested_list_column = [[1, 2, 3], [4, 5, 6], [7, 8, 9, [1,55,77,100]] using negative indexing?\n",
        "nested_list_column = [[1, 2, 3], [4, 5, 6], [7, 8, 9,[1,55,77,100]]]\n",
        "nested_list_column[-1][-1][-1]"
      ],
      "metadata": {
        "colab": {
          "base_uri": "https://localhost:8080/"
        },
        "id": "8SS0P72zrkht",
        "outputId": "687698a4-4bbb-4861-ed6e-6d411908a66f"
      },
      "execution_count": null,
      "outputs": [
        {
          "output_type": "execute_result",
          "data": {
            "text/plain": [
              "100"
            ]
          },
          "metadata": {},
          "execution_count": 28
        }
      ]
    }
  ]
}