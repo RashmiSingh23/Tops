{
  "nbformat": 4,
  "nbformat_minor": 0,
  "metadata": {
    "colab": {
      "provenance": []
    },
    "kernelspec": {
      "name": "python3",
      "display_name": "Python 3"
    },
    "language_info": {
      "name": "python"
    }
  },
  "cells": [
    {
      "cell_type": "markdown",
      "source": [
        "Q1 Write a Python program that accepts a string from user. Your program should create and display a new string where the first and last characters have been exchanged.\n",
        "\n",
        "For example if the user enters the string 'HELLO' then new string would be 'OELLH'"
      ],
      "metadata": {
        "id": "R7YYTlRTJGnu"
      }
    },
    {
      "cell_type": "code",
      "execution_count": 1,
      "metadata": {
        "id": "xUgKDWcJJBwb",
        "colab": {
          "base_uri": "https://localhost:8080/"
        },
        "outputId": "53a916b4-c735-43d0-b463-984e235cccb4"
      },
      "outputs": [
        {
          "output_type": "stream",
          "name": "stdout",
          "text": [
            "enter a string:HELLO\n",
            "HELLO\n",
            "OLLEH\n"
          ]
        }
      ],
      "source": [
        "str=input(\"enter a string:\")\n",
        "print(str[::])\n",
        "print(str[::-1])"
      ]
    },
    {
      "cell_type": "markdown",
      "source": [
        "Q2 Write a Python program that accepts a string from user. Your program should create a new string in reverse of first string and display it.\n",
        "\n",
        "For example if the user enters the string 'EXAM' then new string would be 'MAXE'"
      ],
      "metadata": {
        "id": "KlBKKZUfJLWy"
      }
    },
    {
      "cell_type": "code",
      "source": [
        "str=input(\"enter a string:\")\n",
        "print(str[::])\n",
        "print(str[::-1])\n"
      ],
      "metadata": {
        "id": "rGdKcBseJF_c",
        "outputId": "7bc3ff55-a8af-4b45-e285-2eca3b83a407",
        "colab": {
          "base_uri": "https://localhost:8080/"
        }
      },
      "execution_count": null,
      "outputs": [
        {
          "output_type": "stream",
          "name": "stdout",
          "text": [
            "enter a string:exam\n",
            "exam\n",
            "maxe\n"
          ]
        }
      ]
    },
    {
      "cell_type": "markdown",
      "source": [
        "Q3 Write a Python program that accepts a string from user. Your program should create a new string by shifting one position to left.\n",
        "\n",
        "For example if the user enters the string 'examination 2021' then new string would be 'xamination 2021e'"
      ],
      "metadata": {
        "id": "vI6h0j6EJXN7"
      }
    },
    {
      "cell_type": "code",
      "source": [
        "str1=input(\"enter a string:\")\n",
        "print(str1[:])\n",
        "print(str1[1:]+str1[0])"
      ],
      "metadata": {
        "id": "X_yXSRYhJhyV",
        "outputId": "f59119f4-b81d-49f9-a58a-4e56df98f353",
        "colab": {
          "base_uri": "https://localhost:8080/"
        }
      },
      "execution_count": 2,
      "outputs": [
        {
          "output_type": "stream",
          "name": "stdout",
          "text": [
            "enter a string:examination 2021\n",
            "examination 2021\n",
            "xamination 2021e\n"
          ]
        }
      ]
    },
    {
      "cell_type": "markdown",
      "source": [
        "Q4 Write a Python program to calculate the length of a string."
      ],
      "metadata": {
        "id": "RcpZlQ1uJiHH"
      }
    },
    {
      "cell_type": "code",
      "source": [
        "str=input(\"enter a string:\")\n",
        "print(len(str))"
      ],
      "metadata": {
        "id": "tYfZmeLw1J9R",
        "outputId": "ab127935-eff0-49b4-ae9d-f9d5d442b410",
        "colab": {
          "base_uri": "https://localhost:8080/"
        }
      },
      "execution_count": null,
      "outputs": [
        {
          "output_type": "stream",
          "name": "stdout",
          "text": [
            "enter a string:exam\n",
            "4\n"
          ]
        }
      ]
    },
    {
      "cell_type": "markdown",
      "source": [
        "Q5 Write a Python program to get a string made of the first 2 and last 2 characters of a given string. If the string length is less than 2, return the empty string instead.\n",
        "Sample String : 'w3resource'\n",
        "Expected Result : 'w3ce'\n",
        "Sample String : 'w3'\n",
        "Expected Result : 'w3w3'\n",
        "Sample String : ' w'\n",
        "Expected Result : Empty String"
      ],
      "metadata": {
        "id": "kZ-tq4KG1KtZ"
      }
    },
    {
      "cell_type": "code",
      "source": [
        "str=input(\"enter a string:\")\n",
        "if len(str)>=2:\n",
        "  print(str[0:2]+str[-2:])\n",
        "else:\n",
        "  print(\"empty string\")"
      ],
      "metadata": {
        "id": "k1UDXqBy1dlb",
        "outputId": "f9122c21-a27d-4770-9dec-0de2097ada3c",
        "colab": {
          "base_uri": "https://localhost:8080/"
        }
      },
      "execution_count": null,
      "outputs": [
        {
          "output_type": "stream",
          "name": "stdout",
          "text": [
            "enter a string:rashmi\n",
            "rami\n"
          ]
        }
      ]
    },
    {
      "cell_type": "markdown",
      "source": [
        "Q6 Write a Python program to add 'ing' at the end of a given string (length should be at least 3). If the given string already ends with 'ing', add 'ly' instead. If the string length of the given string is less than 3, leave it unchanged.\n",
        "Sample String : 'abc'\n",
        "Expected Result : 'abcing'\n",
        "Sample String : 'string'\n",
        "Expected Result : 'stringly'"
      ],
      "metadata": {
        "id": "fLmjxBVH1dv7"
      }
    },
    {
      "cell_type": "code",
      "source": [
        "str1 = input(\"enter a string: \")\n",
        "if len(str1) < 3:\n",
        "  print(str1)\n",
        "elif str1[-3:] == 'ing':\n",
        "  print(str1 + 'ly')\n",
        "else:\n",
        "  print(str1 + 'ing')"
      ],
      "metadata": {
        "id": "aDBLGj7o1xDG",
        "outputId": "10264ea4-56ff-4b28-e4a0-171103ee529e",
        "colab": {
          "base_uri": "https://localhost:8080/"
        }
      },
      "execution_count": null,
      "outputs": [
        {
          "output_type": "stream",
          "name": "stdout",
          "text": [
            "enter a string: string\n",
            "stringly\n"
          ]
        }
      ]
    },
    {
      "cell_type": "markdown",
      "source": [
        "Q7 Write a Python program to remove the nth index character from a nonempty string."
      ],
      "metadata": {
        "id": "Ni87_gWx1yAM"
      }
    },
    {
      "cell_type": "code",
      "source": [
        "str1 = input(\"enter a string: \")\n",
        "n=int(input(\"enter the nth index\"))\n",
        "F=str1[0:n]\n",
        "L=str1[n+1:]\n",
        "print(F+L)"
      ],
      "metadata": {
        "id": "qQKUKvze2Kz0",
        "outputId": "ee1cb7f2-1472-414a-e0de-5745d7ad1b9a",
        "colab": {
          "base_uri": "https://localhost:8080/"
        }
      },
      "execution_count": null,
      "outputs": [
        {
          "output_type": "stream",
          "name": "stdout",
          "text": [
            "enter a string: rashmi\n",
            "enter the nth index3\n",
            "rasmi\n"
          ]
        }
      ]
    },
    {
      "cell_type": "markdown",
      "source": [
        "Q8 Write a Python program to change a given string to a newly string where the first and last chars have been exchanged."
      ],
      "metadata": {
        "id": "JV7rvO032LvA"
      }
    },
    {
      "cell_type": "code",
      "source": [
        "str1=input(\"enter a string: \")\n",
        "new_str=str1[-1:] + str1[1:-1] + str1[:1]\n",
        "print(new_str)"
      ],
      "metadata": {
        "id": "OnyZ4Qms2TTJ",
        "colab": {
          "base_uri": "https://localhost:8080/"
        },
        "outputId": "9dcf882e-6738-42aa-9a44-f4f364d53406"
      },
      "execution_count": 5,
      "outputs": [
        {
          "output_type": "stream",
          "name": "stdout",
          "text": [
            "enter a string: keyword\n",
            "deywork\n"
          ]
        }
      ]
    },
    {
      "cell_type": "markdown",
      "source": [
        "Q9 Write a Python script that takes input from the user and displays that in upper and lower cases."
      ],
      "metadata": {
        "id": "pJHJGSEt2Tk5"
      }
    },
    {
      "cell_type": "code",
      "source": [
        "string=input(\"enter a string: \")\n",
        "print(string.upper())\n",
        "print(string.lower())"
      ],
      "metadata": {
        "id": "Td98QnJk26YZ",
        "outputId": "ed2262ac-ed00-4976-f965-0a128184fdab",
        "colab": {
          "base_uri": "https://localhost:8080/"
        }
      },
      "execution_count": 3,
      "outputs": [
        {
          "output_type": "stream",
          "name": "stdout",
          "text": [
            "enter a string: network\n",
            "NETWORK\n",
            "network\n"
          ]
        }
      ]
    },
    {
      "cell_type": "markdown",
      "source": [
        "Thank You"
      ],
      "metadata": {
        "id": "eYKOjOg626sL"
      }
    }
  ]
}