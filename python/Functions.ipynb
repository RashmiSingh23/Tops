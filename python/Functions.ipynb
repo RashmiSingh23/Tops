{
  "nbformat": 4,
  "nbformat_minor": 0,
  "metadata": {
    "colab": {
      "provenance": []
    },
    "kernelspec": {
      "name": "python3",
      "display_name": "Python 3"
    },
    "language_info": {
      "name": "python"
    }
  },
  "cells": [
    {
      "cell_type": "code",
      "source": [
        "#1- Write a function that calculates the area of a rectangle given its length and width.\n",
        "#Description: Create a function that takes two parameters, length and width, and returns the area of the rectangle calculated using the formula: area = length * width.\n",
        "def rec_area(l,b):\n",
        "  area=l*b\n",
        "  return area\n",
        "rec_area(5,8)"
      ],
      "metadata": {
        "colab": {
          "base_uri": "https://localhost:8080/"
        },
        "id": "_DT6K6zZWMx3",
        "outputId": "884f9a29-5214-4a43-9c80-674138903c6c"
      },
      "execution_count": null,
      "outputs": [
        {
          "output_type": "execute_result",
          "data": {
            "text/plain": [
              "40"
            ]
          },
          "metadata": {},
          "execution_count": 5
        }
      ]
    },
    {
      "cell_type": "code",
      "source": [
        "#2- Create a function that converts temperature from Celsius to Fahrenheit.\n",
        "#Description: Define a function that accepts a temperature value in Celsius and returns its equivalent in Fahrenheit using the conversion formula:\n",
        "#Fahrenheit = (Celsius * 9/5) + 32.\n",
        "\n",
        "def fahren(c):\n",
        "  fahrenheit=(c*9/5)+32\n",
        "  return fahrenheit\n",
        "fahren(20)"
      ],
      "metadata": {
        "colab": {
          "base_uri": "https://localhost:8080/"
        },
        "id": "GaejoAsoW-7G",
        "outputId": "dbe2a8f1-bca1-4721-ea57-7d4b4bcc2c56"
      },
      "execution_count": null,
      "outputs": [
        {
          "output_type": "execute_result",
          "data": {
            "text/plain": [
              "68.0"
            ]
          },
          "metadata": {},
          "execution_count": 6
        }
      ]
    },
    {
      "cell_type": "code",
      "source": [
        "#3- Write a function to find the factorial of a number.\n",
        "#Description: Implement a function that computes the factorial of a given number using recursion or iteration.\n",
        "def factorial(n):\n",
        "  if (n==0 or n==1):\n",
        "     return 1\n",
        "  else:\n",
        "     return n * factorial(n-1)\n",
        "\n",
        "factorial(5)"
      ],
      "metadata": {
        "colab": {
          "base_uri": "https://localhost:8080/"
        },
        "id": "dXitd74YXpmK",
        "outputId": "47b33e20-5cec-46d0-8cbe-bef178a06424"
      },
      "execution_count": null,
      "outputs": [
        {
          "output_type": "execute_result",
          "data": {
            "text/plain": [
              "120"
            ]
          },
          "metadata": {},
          "execution_count": 14
        }
      ]
    },
    {
      "cell_type": "code",
      "source": [
        "#4- Design a function to check if a given number is prime.\n",
        "#Develop a function that determines whether a given number is prime or not. A prime number is a natural number greater than 1 that has no positive divisors other than 1 and itself.\n",
        "def prime_no(n):\n",
        "  for i in range(2,n):\n",
        "    if n%i==0:\n",
        "      print(\"Not a prime number \")\n",
        "    else:\n",
        "      print(n,\"is a prime number\")\n",
        "      break\n",
        "prime_no(7)"
      ],
      "metadata": {
        "id": "-5eqmCZQXp0c",
        "colab": {
          "base_uri": "https://localhost:8080/"
        },
        "outputId": "0c8f0adc-f43f-412b-fd84-ce3758d7e6c3"
      },
      "execution_count": null,
      "outputs": [
        {
          "output_type": "stream",
          "name": "stdout",
          "text": [
            "7 is a prime number\n"
          ]
        }
      ]
    },
    {
      "cell_type": "code",
      "source": [
        "#5- Create a function that reverses a given string.\n",
        "#Define a function that takes a string as input and returns its reverse. For example, \"hello\" should be returned as \"olleh\".\n",
        "def rev(str1):\n",
        "  reverse=str1[::-1]\n",
        "  return reverse\n",
        "str1=input(\"enter a string: \")\n",
        "rev(str1)"
      ],
      "metadata": {
        "id": "VcUDLBFjgWpq",
        "colab": {
          "base_uri": "https://localhost:8080/",
          "height": 53
        },
        "outputId": "ad402a98-fee8-4fb4-844e-e184e7872a82"
      },
      "execution_count": 6,
      "outputs": [
        {
          "name": "stdout",
          "output_type": "stream",
          "text": [
            "enter a string: hello\n"
          ]
        },
        {
          "output_type": "execute_result",
          "data": {
            "text/plain": [
              "'olleh'"
            ],
            "application/vnd.google.colaboratory.intrinsic+json": {
              "type": "string"
            }
          },
          "metadata": {},
          "execution_count": 6
        }
      ]
    },
    {
      "cell_type": "code",
      "source": [
        "#6- Write a function to compute the nth Fibonacci number.\n",
        "#Implement a function that returns the nth Fibonacci number, where Fibonacci sequence starts with 0 and 1, and each subsequent number is the sum of the previous two.\n",
        "def fibonacci(n):\n",
        "  num1 = 0\n",
        "  num2 = 1\n",
        "  num3 = 0\n",
        "  print(num1)\n",
        "  print(num2)\n",
        "  while  num3<=n:\n",
        "    num3 = num1+num2\n",
        "    num1 = num2\n",
        "    num2 = num3\n",
        "    print(num3)\n",
        "num = int(input(\"Enter a number = \"))\n",
        "fibonacci(num)\n",
        "\n"
      ],
      "metadata": {
        "id": "RFlQ69SXhxZ7",
        "colab": {
          "base_uri": "https://localhost:8080/"
        },
        "outputId": "fa0f685a-0ebd-48c3-8b54-b8921578ee74"
      },
      "execution_count": 3,
      "outputs": [
        {
          "output_type": "stream",
          "name": "stdout",
          "text": [
            "Enter a number = 6\n",
            "0\n",
            "1\n",
            "1\n",
            "2\n",
            "3\n",
            "5\n",
            "8\n"
          ]
        }
      ]
    },
    {
      "cell_type": "code",
      "source": [
        "#7- Create a function to find the largest element in a list.\n",
        "#Develop a function that takes a list of numbers as input and returns the largest element present in the list.\n",
        "def largestNum(list1):\n",
        "  lar = max(list1)\n",
        "  return lar\n",
        "\n",
        "list1 = [5, 6, 7, 8, 9]\n",
        "largestNum(list1)"
      ],
      "metadata": {
        "colab": {
          "base_uri": "https://localhost:8080/"
        },
        "id": "etE9XrY916n0",
        "outputId": "20517dee-be76-4fa8-ee0c-bbdd6c6be794"
      },
      "execution_count": null,
      "outputs": [
        {
          "output_type": "execute_result",
          "data": {
            "text/plain": [
              "9"
            ]
          },
          "metadata": {},
          "execution_count": 13
        }
      ]
    },
    {
      "cell_type": "code",
      "source": [
        "#8- Design a function to count the number of vowels in a string.\n",
        "#Description: Define a function that counts and returns the number of vowels (a, e, i, o, u) present in a given string.\n",
        "\n",
        "def count_vowels(string):\n",
        "    vowels = {'a', 'e', 'i', 'o', 'u'}\n",
        "    vowel_count = 0\n",
        "    for char in string:\n",
        "        if char in vowels:\n",
        "            vowel_count += 1\n",
        "    return vowel_count\n",
        "\n",
        "str1=input(\"enter a string: \")\n",
        "print(count_vowels(str1))"
      ],
      "metadata": {
        "colab": {
          "base_uri": "https://localhost:8080/"
        },
        "id": "KtEDCNNl1gED",
        "outputId": "18c9bfb6-fa68-4886-983a-c677f4b3db21"
      },
      "execution_count": null,
      "outputs": [
        {
          "output_type": "stream",
          "name": "stdout",
          "text": [
            "enter a string: i know you very well\n",
            "6\n"
          ]
        }
      ]
    },
    {
      "cell_type": "code",
      "source": [
        "#9- Write a function to calculate the factorial of each number in a given list.\n",
        "#Description: Create a function that accepts a list of numbers as input and returns a new list containing the factorial of each number in the original list.\n",
        "def fact_list(lis):\n",
        "  lis2 = []\n",
        "  for dig in lis:\n",
        "    i=1\n",
        "    num1 = 1\n",
        "    while i<= int(dig):\n",
        "      num1 *= i\n",
        "      i += 1\n",
        "    lis2.append(num1)\n",
        "  return lis2\n",
        "\n",
        "lis = list(input(\"Enter list: \"))\n",
        "print(\"Original List: \",lis)\n",
        "print(\"Factiorial List: \",fact_list(lis))"
      ],
      "metadata": {
        "id": "HpXPEkdI1kZE",
        "colab": {
          "base_uri": "https://localhost:8080/"
        },
        "outputId": "2197956a-e9a5-4875-fed7-0a0cae4e80a0"
      },
      "execution_count": 4,
      "outputs": [
        {
          "output_type": "stream",
          "name": "stdout",
          "text": [
            "Enter list: 5\n",
            "Original List:  ['5']\n",
            "Factiorial List:  [120]\n"
          ]
        }
      ]
    },
    {
      "cell_type": "code",
      "source": [
        "#10- Create a function to check if a string is a palindrome.\n",
        "#Description: Implement a function that checks whether a given string is a palindrome or not. A palindrome is a string that reads the same forwards and backwards.\n",
        "def pal(str1):\n",
        "  if str1==str1[::-1]:\n",
        "      print(\"string is a palindrome\")\n",
        "  else:\n",
        "      print(\"Not a palindrome \")\n",
        "\n",
        "string=input(\"enter a string: \")\n",
        "pal(string)"
      ],
      "metadata": {
        "colab": {
          "base_uri": "https://localhost:8080/"
        },
        "id": "tcK9iLEw1k3F",
        "outputId": "c1517e2b-470b-45f0-db3f-8c55ceace921"
      },
      "execution_count": null,
      "outputs": [
        {
          "output_type": "stream",
          "name": "stdout",
          "text": [
            "enter a string: rashmi\n",
            "Not a palindrome \n"
          ]
        }
      ]
    }
  ]
}